{
 "cells": [
  {
   "cell_type": "markdown",
   "metadata": {},
   "source": [
    "# Benchmark Analysis on Bayesian Logistic Regressions\n",
    "\n",
    "The following notebooks makes use of the following UCI datasets:\n",
    "\n",
    "1. Wine\n",
    "2. Rice\n",
    "3. Diabetes\n",
    "4. Covertype"
   ]
  },
  {
   "cell_type": "code",
   "execution_count": 1,
   "metadata": {
    "vscode": {
     "languageId": "r"
    }
   },
   "outputs": [
    {
     "name": "stderr",
     "output_type": "stream",
     "text": [
      "\n",
      "Attaching package: 'dplyr'\n",
      "\n",
      "\n",
      "The following objects are masked from 'package:stats':\n",
      "\n",
      "    filter, lag\n",
      "\n",
      "\n",
      "The following objects are masked from 'package:base':\n",
      "\n",
      "    intersect, setdiff, setequal, union\n",
      "\n",
      "\n",
      "\n",
      "Attaching package: 'gridExtra'\n",
      "\n",
      "\n",
      "The following object is masked from 'package:dplyr':\n",
      "\n",
      "    combine\n",
      "\n",
      "\n",
      "\n",
      "Attaching package: 'kableExtra'\n",
      "\n",
      "\n",
      "The following object is masked from 'package:dplyr':\n",
      "\n",
      "    group_rows\n",
      "\n",
      "\n",
      "Loading required package: mvtnorm\n",
      "\n",
      "Loading required package: randtoolbox\n",
      "\n",
      "Loading required package: rngWELL\n",
      "\n",
      "This is randtoolbox. For an overview, type 'help(\"randtoolbox\")'.\n",
      "\n",
      "Loading required package: distr\n",
      "\n",
      "Loading required package: startupmsg\n",
      "\n",
      "Utilities for Start-Up Messages (version 0.9.6.1)\n",
      "\n",
      "For more information see ?\"startupmsg\", NEWS(\"startupmsg\")\n",
      "\n",
      "\n",
      "Loading required package: sfsmisc\n",
      "\n",
      "\n",
      "Attaching package: 'sfsmisc'\n",
      "\n",
      "\n",
      "The following object is masked from 'package:dplyr':\n",
      "\n",
      "    last\n",
      "\n",
      "\n",
      "Object Oriented Implementation of Distributions (version 2.9.3)\n",
      "\n",
      "Attention: Arithmetics on distribution objects are understood as operations on corresponding random variables (r.v.s); see distrARITH().\n",
      "Some functions from package 'stats' are intentionally masked ---see distrMASK().\n",
      "Note that global options are controlled by distroptions() ---c.f. ?\"distroptions\".\n",
      "\n",
      "For more information see ?\"distr\", NEWS(\"distr\"), as well as\n",
      "  http://distr.r-forge.r-project.org/\n",
      "Package \"distrDoc\" provides a vignette to this package as well as to several extension packages; try vignette(\"distr\").\n",
      "\n",
      "\n",
      "\n",
      "Attaching package: 'distr'\n",
      "\n",
      "\n",
      "The following objects are masked from 'package:dplyr':\n",
      "\n",
      "    location, n\n",
      "\n",
      "\n",
      "The following objects are masked from 'package:stats':\n",
      "\n",
      "    df, qqplot, sd\n",
      "\n",
      "\n",
      "Loading required package: pROC\n",
      "\n",
      "Type 'citation(\"pROC\")' for a citation.\n",
      "\n",
      "\n",
      "Attaching package: 'pROC'\n",
      "\n",
      "\n",
      "The following objects are masked from 'package:stats':\n",
      "\n",
      "    cov, smooth, var\n",
      "\n",
      "\n"
     ]
    }
   ],
   "source": [
    "library(dplyr)\n",
    "library(gridExtra)\n",
    "library(ggplotify)\n",
    "library(ggplot2)\n",
    "library(foreach)\n",
    "library(kableExtra)\n",
    "\n",
    "source(\"logitregress.R\")"
   ]
  },
  {
   "cell_type": "code",
   "execution_count": 25,
   "metadata": {
    "vscode": {
     "languageId": "r"
    }
   },
   "outputs": [
    {
     "name": "stderr",
     "output_type": "stream",
     "text": [
      "BBVI-RB: Iteration 100 | lambda: 0.0289 | ELBO: -557 | ELBO Change: 0\n",
      "\n",
      "BBVI-RB: Iteration 200 | lambda: 0.017 | ELBO: -557.35 | ELBO Change: 0\n",
      "\n",
      "BBVI-RB: Iteration 300 | lambda: 0.0251 | ELBO: -523.68 | ELBO Change: 0\n",
      "\n",
      "BBVI-RB: Iteration 400 | lambda: 0.0098 | ELBO: -497.03 | ELBO Change: 0\n",
      "\n",
      "BBVI-RB: Iteration 500 | lambda: 0.0241 | ELBO: -573.39 | ELBO Change: 0\n",
      "\n",
      "BBVI-RB: Iteration 600 | lambda: 0.009 | ELBO: -534.82 | ELBO Change: 0\n",
      "\n",
      "BBVI-RB: Iteration 700 | lambda: 0.019 | ELBO: -561.62 | ELBO Change: 0\n",
      "\n",
      "BBVI-RB: Iteration 800 | lambda: 0.0075 | ELBO: -531.75 | ELBO Change: 0\n",
      "\n",
      "BBVI-RB: Iteration 900 | lambda: 0.0051 | ELBO: -523.32 | ELBO Change: 0\n",
      "\n",
      "BBVI-RB: Iteration 1000 | lambda: 0.0043 | ELBO: -456.6 | ELBO Change: 0\n",
      "\n",
      "Algorithm did not converge after 1000 steps. Results may not be reliable.\n",
      "\n"
     ]
    }
   ],
   "source": [
    "source(\"logitregress.R\")\n",
    "wine.rbl <- bbvi_logitreg(categories = wine.train[,1], X = scale(wine.train[,-1]), mc_size = 100, method = \"RB\", learn_rate = rate_adagrad(1e-1), max_iter = 1000, converge = 1e-3, seed = 9, verbose = TRUE)\n"
   ]
  },
  {
   "cell_type": "markdown",
   "metadata": {},
   "source": [
    "## Wine\n",
    "\n",
    "From the UCI Library: https://archive.ics.uci.edu/dataset/109/wine"
   ]
  },
  {
   "cell_type": "code",
   "execution_count": 2,
   "metadata": {
    "vscode": {
     "languageId": "r"
    }
   },
   "outputs": [],
   "source": [
    "wine <- read.table(\"Data/wine.csv\", sep=\",\", header = FALSE)\n",
    "wine <- wine[wine$V1 %in% c(1,3), ]\n",
    "wine[,1] <- sapply(wine[[1]], function(x){\n",
    "    if(x == 3) return(0)\n",
    "    return(1)\n",
    "})\n",
    "\n",
    "set.seed(923)\n",
    "index <- sample(x = nrow(wine), size = round(0.7 * nrow(wine)))\n",
    "\n",
    "wine.train <- as.matrix(wine[index, ])\n",
    "wine.test <- as.matrix(wine[-index, ])\n",
    "\n",
    "rownames(wine.train) <- NULL\n",
    "rownames(wine.test) <- NULL"
   ]
  },
  {
   "cell_type": "code",
   "execution_count": 17,
   "metadata": {
    "vscode": {
     "languageId": "r"
    }
   },
   "outputs": [
    {
     "name": "stderr",
     "output_type": "stream",
     "text": [
      "Algorithm converged after 63 iterations.\n",
      "\n",
      "BBVI-Naive: Iteration 100 | lambda: 0.0018 | ELBO: -334.42 | ELBO Change: 0\n",
      "\n",
      "BBVI-Naive: Iteration 200 | lambda: 0.0018 | ELBO: -605.18 | ELBO Change: 0\n",
      "\n",
      "Algorithm converged after 206 iterations.\n",
      "\n",
      "Algorithm converged after 76 iterations.\n",
      "\n",
      "Algorithm converged after 70 iterations.\n",
      "\n",
      "BBVI-Naive: Iteration 100 | lambda: 0.0029 | ELBO: -546.55 | ELBO Change: 0\n",
      "\n",
      "Algorithm converged after 115 iterations.\n",
      "\n",
      "Algorithm converged after 76 iterations.\n",
      "\n",
      "Algorithm converged after 59 iterations.\n",
      "\n",
      "BBVI-Naive: Iteration 100 | lambda: 0.0026 | ELBO: -384.72 | ELBO Change: 0\n",
      "\n",
      "Algorithm converged after 176 iterations.\n",
      "\n",
      "Algorithm converged after 58 iterations.\n",
      "\n",
      "Algorithm converged after 65 iterations.\n",
      "\n",
      "BBVI-Naive: Iteration 100 | lambda: 0.0038 | ELBO: -598.07 | ELBO Change: 0\n",
      "\n",
      "Algorithm converged after 195 iterations.\n",
      "\n",
      "YOASOVI-Naive: Iteration 100 | ELBO: -8.42\n",
      "\n",
      "Algorithm converged after 115 iterations.\n",
      "\n",
      "Algorithm converged after 36 iterations.\n",
      "\n",
      "BBVI-Naive: Iteration 100 | lambda: 0.0017 | ELBO: -418.98 | ELBO Change: 0\n",
      "\n",
      "Algorithm converged after 182 iterations.\n",
      "\n",
      "YOASOVI-Naive: Iteration 100 | ELBO: -3.78\n",
      "\n",
      "Algorithm converged after 108 iterations.\n",
      "\n",
      "Algorithm converged after 35 iterations.\n",
      "\n",
      "BBVI-Naive: Iteration 100 | lambda: 0.0026 | ELBO: -533.41 | ELBO Change: 0\n",
      "\n",
      "BBVI-Naive: Iteration 200 | lambda: 0.0029 | ELBO: -494.25 | ELBO Change: 0\n",
      "\n",
      "Algorithm converged after 205 iterations.\n",
      "\n",
      "Algorithm converged after 70 iterations.\n",
      "\n",
      "Algorithm converged after 15 iterations.\n",
      "\n",
      "BBVI-Naive: Iteration 100 | lambda: 0.0022 | ELBO: -371.04 | ELBO Change: 0\n",
      "\n",
      "BBVI-Naive: Iteration 200 | lambda: 0.0012 | ELBO: -336.62 | ELBO Change: 0\n",
      "\n",
      "Algorithm converged after 219 iterations.\n",
      "\n",
      "Algorithm converged after 80 iterations.\n",
      "\n",
      "Algorithm converged after 90 iterations.\n",
      "\n",
      "BBVI-Naive: Iteration 100 | lambda: 0.0025 | ELBO: -521.28 | ELBO Change: 0\n",
      "\n",
      "Algorithm converged after 187 iterations.\n",
      "\n",
      "Algorithm converged after 76 iterations.\n",
      "\n",
      "Algorithm converged after 49 iterations.\n",
      "\n",
      "BBVI-Naive: Iteration 100 | lambda: 0.0016 | ELBO: -351.75 | ELBO Change: 0\n",
      "\n",
      "Algorithm converged after 185 iterations.\n",
      "\n",
      "Algorithm converged after 77 iterations.\n",
      "\n",
      "Algorithm converged after 93 iterations.\n",
      "\n",
      "BBVI-Naive: Iteration 100 | lambda: 0.0021 | ELBO: -416.64 | ELBO Change: 0\n",
      "\n",
      "Algorithm converged after 165 iterations.\n",
      "\n",
      "Algorithm converged after 53 iterations.\n",
      "\n"
     ]
    },
    {
     "data": {
      "text/html": [
       "<table class=\"dataframe\">\n",
       "<caption>A tibble: 3 x 9</caption>\n",
       "<thead>\n",
       "\t<tr><th scope=col>Method</th><th scope=col>iterations_mn</th><th scope=col>iterations_sd</th><th scope=col>time_mn</th><th scope=col>time_sd</th><th scope=col>elbo_mn</th><th scope=col>elbo_sd</th><th scope=col>DIC_mn</th><th scope=col>DIC_sd</th></tr>\n",
       "\t<tr><th scope=col>&lt;chr&gt;</th><th scope=col>&lt;dbl&gt;</th><th scope=col>&lt;dbl&gt;</th><th scope=col>&lt;drtn&gt;</th><th scope=col>&lt;dbl&gt;</th><th scope=col>&lt;dbl&gt;</th><th scope=col>&lt;dbl&gt;</th><th scope=col>&lt;dbl&gt;</th><th scope=col>&lt;dbl&gt;</th></tr>\n",
       "</thead>\n",
       "<tbody>\n",
       "\t<tr><td>BBVI   </td><td> 57.5</td><td>24.51</td><td>3.55 secs</td><td>1.56</td><td> -95.59</td><td>21.34</td><td>255.05</td><td> 42.73</td></tr>\n",
       "\t<tr><td>QMCVI  </td><td>183.5</td><td>28.81</td><td>2.16 secs</td><td>0.22</td><td>-332.66</td><td>59.91</td><td>700.68</td><td>117.42</td></tr>\n",
       "\t<tr><td>YOASOVI</td><td> 78.9</td><td>19.34</td><td>0.04 secs</td><td>0.02</td><td>  -5.44</td><td> 1.77</td><td> 72.76</td><td>  4.78</td></tr>\n",
       "</tbody>\n",
       "</table>\n"
      ],
      "text/latex": [
       "A tibble: 3 x 9\n",
       "\\begin{tabular}{lllllllll}\n",
       " Method & iterations\\_mn & iterations\\_sd & time\\_mn & time\\_sd & elbo\\_mn & elbo\\_sd & DIC\\_mn & DIC\\_sd\\\\\n",
       " <chr> & <dbl> & <dbl> & <drtn> & <dbl> & <dbl> & <dbl> & <dbl> & <dbl>\\\\\n",
       "\\hline\n",
       "\t BBVI    &  57.5 & 24.51 & 3.55 secs & 1.56 &  -95.59 & 21.34 & 255.05 &  42.73\\\\\n",
       "\t QMCVI   & 183.5 & 28.81 & 2.16 secs & 0.22 & -332.66 & 59.91 & 700.68 & 117.42\\\\\n",
       "\t YOASOVI &  78.9 & 19.34 & 0.04 secs & 0.02 &   -5.44 &  1.77 &  72.76 &   4.78\\\\\n",
       "\\end{tabular}\n"
      ],
      "text/markdown": [
       "\n",
       "A tibble: 3 x 9\n",
       "\n",
       "| Method &lt;chr&gt; | iterations_mn &lt;dbl&gt; | iterations_sd &lt;dbl&gt; | time_mn &lt;drtn&gt; | time_sd &lt;dbl&gt; | elbo_mn &lt;dbl&gt; | elbo_sd &lt;dbl&gt; | DIC_mn &lt;dbl&gt; | DIC_sd &lt;dbl&gt; |\n",
       "|---|---|---|---|---|---|---|---|---|\n",
       "| BBVI    |  57.5 | 24.51 | 3.55 secs | 1.56 |  -95.59 | 21.34 | 255.05 |  42.73 |\n",
       "| QMCVI   | 183.5 | 28.81 | 2.16 secs | 0.22 | -332.66 | 59.91 | 700.68 | 117.42 |\n",
       "| YOASOVI |  78.9 | 19.34 | 0.04 secs | 0.02 |   -5.44 |  1.77 |  72.76 |   4.78 |\n",
       "\n"
      ],
      "text/plain": [
       "  Method  iterations_mn iterations_sd time_mn   time_sd elbo_mn elbo_sd DIC_mn\n",
       "1 BBVI     57.5         24.51         3.55 secs 1.56     -95.59 21.34   255.05\n",
       "2 QMCVI   183.5         28.81         2.16 secs 0.22    -332.66 59.91   700.68\n",
       "3 YOASOVI  78.9         19.34         0.04 secs 0.02      -5.44  1.77    72.76\n",
       "  DIC_sd\n",
       "1  42.73\n",
       "2 117.42\n",
       "3   4.78"
      ]
     },
     "metadata": {},
     "output_type": "display_data"
    }
   ],
   "source": [
    "wine_performances <- foreach(seed = 0:9) %do%{\n",
    "    wine.nav <- bbvi_logitreg(categories = wine.train[,1], X = scale(wine.train[,-1]), mc_size = 100, method = \"Naive\", learn_rate = rate_adagrad(1e-1), max_iter = 1000, converge = 1e-3, seed = seed, verbose = TRUE)\n",
    "    wine.rbl <- bbvi_logitreg(categories = wine.train[,1], X = scale(wine.train[,-1]), mc_size = 100, method = \"RB\", learn_rate = rate_adagrad(1e-1), max_iter = 1000, converge = 1e-3, seed = seed, verbose = TRUE)\n",
    "    wine.jsp <- bbvi_logitreg(categories = wine.train[,1], X = scale(wine.train[,-1]), mc_size = 100, method = \"JS+\", learn_rate = rate_adagrad(1e-1), max_iter = 1000, converge = 1e-3, seed = seed, verbose = TRUE)\n",
    "    wine.rbp <- bbvi_logitreg(categories = wine.train[,1], X = scale(wine.train[,-1]), mc_size = 100, method = \"RB+\", learn_rate = rate_adagrad(1e-1), max_iter = 1000, converge = 1e-3, seed = seed, verbose = TRUE)\n",
    "\n",
    "    wine.nav.acc <- logitreg_accuracy(wine.nav, newdata = list(categories=wine.test[,1], X=scale(wine.test[,-1])))\n",
    "    wine.rbl.acc <- logitreg_accuracy(wine.rbl, newdata = list(categories=wine.test[,1], X=scale(wine.test[,-1])))\n",
    "    wine.jsp.acc <- logitreg_accuracy(wine.jsp, newdata = list(categories=wine.test[,1], X=scale(wine.test[,-1])))\n",
    "    wine.rbp.acc <- logitreg_accuracy(wine.rbp, newdata = list(categories=wine.test[,1], X=scale(wine.test[,-1])))\n",
    "\n",
    "    return(list(\n",
    "        \"Summary\" = rbind(\n",
    "            cbind(Method = \"Naive\", logitreg_summary(wine.nav)),\n",
    "            cbind(Method = \"RB\", logitreg_summary(wine.rbl)),\n",
    "            cbind(Method = \"JS+\", logitreg_summary(wine.jsp)),\n",
    "            cbind(Method = \"RB+\", logitreg_summary(wine.rbp))\n",
    "        ),\n",
    "        \"Accuracy\" = rbind(\n",
    "            cbind(Method=\"Naive\", AUC=wine.nav.acc$auc_postmean),\n",
    "            cbind(Method=\"RB\", AUC=wine.rbl.acc$auc_postmean),\n",
    "            cbind(Method=\"JS+\", AUC=wine.jsp.acc$auc_postmean),\n",
    "            cbind(Method=\"RB+\", AUC=wine.rbp.acc$auc_postmean)\n",
    "        )))\n",
    "}"
   ]
  },
  {
   "cell_type": "code",
   "execution_count": 6,
   "metadata": {
    "vscode": {
     "languageId": "r"
    }
   },
   "outputs": [
    {
     "name": "stderr",
     "output_type": "stream",
     "text": [
      "BBVI-Naive: Iteration 100 | lambda: 0.0034 | ELBO: -544.52 | ELBO Change: 0\n",
      "\n",
      "Algorithm did not converge after 100 steps. Results may not be reliable.\n",
      "\n"
     ]
    }
   ],
   "source": [
    "wine_performances <- do.call('rbind', wine_performances)\n",
    "wine_performances <- wine_performances %>%\n",
    "    group_by(Method) %>%\n",
    "    summarise(iterations_mn = round(mean(iter),2), iterations_sd = round(sd(iter),2), time_mn = round(mean(elapsed),2), time_sd = round(sd(elapsed),2),\n",
    "                elbo_mn = round(mean(elbo),2), elbo_sd = round(sd(elbo),2), DIC_mn = round(mean(DIC),2), DIC_sd = round(sd(DIC),2))\n",
    "\n",
    "wine_performances"
   ]
  },
  {
   "cell_type": "code",
   "execution_count": 13,
   "metadata": {
    "vscode": {
     "languageId": "r"
    }
   },
   "outputs": [
    {
     "data": {
      "text/html": [
       "<table class=\"dataframe\">\n",
       "<caption>A matrix: 1 x 2 of type chr</caption>\n",
       "<thead>\n",
       "\t<tr><th scope=col>Method</th><th scope=col>AUC</th></tr>\n",
       "</thead>\n",
       "<tbody>\n",
       "\t<tr><td>Naive</td><td>1</td></tr>\n",
       "</tbody>\n",
       "</table>\n"
      ],
      "text/latex": [
       "A matrix: 1 x 2 of type chr\n",
       "\\begin{tabular}{ll}\n",
       " Method & AUC\\\\\n",
       "\\hline\n",
       "\t Naive & 1\\\\\n",
       "\\end{tabular}\n"
      ],
      "text/markdown": [
       "\n",
       "A matrix: 1 x 2 of type chr\n",
       "\n",
       "| Method | AUC |\n",
       "|---|---|\n",
       "| Naive | 1 |\n",
       "\n"
      ],
      "text/plain": [
       "     Method AUC\n",
       "[1,] Naive  1  "
      ]
     },
     "metadata": {},
     "output_type": "display_data"
    }
   ],
   "source": [
    "wine.bbvi.acc <- logitreg_accuracy(wine.bbvi, newdata = list(categories=wine.test[,1], X=scale(wine.test[,-1])))\n"
   ]
  },
  {
   "cell_type": "code",
   "execution_count": 15,
   "metadata": {
    "vscode": {
     "languageId": "r"
    }
   },
   "outputs": [
    {
     "data": {
      "text/html": [
       "<table class=\"dataframe\">\n",
       "<caption>A matrix: 3 x 2 of type dbl</caption>\n",
       "<thead>\n",
       "\t<tr><th scope=col>mean</th><th scope=col>sd</th></tr>\n",
       "</thead>\n",
       "<tbody>\n",
       "\t<tr><td>84.71</td><td>14.92</td></tr>\n",
       "\t<tr><td>78.54</td><td>16.84</td></tr>\n",
       "\t<tr><td>80.78</td><td>16.66</td></tr>\n",
       "</tbody>\n",
       "</table>\n"
      ],
      "text/latex": [
       "A matrix: 3 x 2 of type dbl\n",
       "\\begin{tabular}{ll}\n",
       " mean & sd\\\\\n",
       "\\hline\n",
       "\t 84.71 & 14.92\\\\\n",
       "\t 78.54 & 16.84\\\\\n",
       "\t 80.78 & 16.66\\\\\n",
       "\\end{tabular}\n"
      ],
      "text/markdown": [
       "\n",
       "A matrix: 3 x 2 of type dbl\n",
       "\n",
       "| mean | sd |\n",
       "|---|---|\n",
       "| 84.71 | 14.92 |\n",
       "| 78.54 | 16.84 |\n",
       "| 80.78 | 16.66 |\n",
       "\n"
      ],
      "text/plain": [
       "     mean  sd   \n",
       "[1,] 84.71 14.92\n",
       "[2,] 78.54 16.84\n",
       "[3,] 80.78 16.66"
      ]
     },
     "metadata": {},
     "output_type": "display_data"
    }
   ],
   "source": [
    "wine_accuracy <- round(100 * rbind(\n",
    "    wine.bbvi.acc$auc_simulations,\n",
    "    wine.qmcvi.acc$auc_simulations,\n",
    "    wine.yoasovi.acc$auc_simulations\n",
    "),2)\n",
    "\n",
    "wine_accuracy"
   ]
  },
  {
   "cell_type": "markdown",
   "metadata": {},
   "source": [
    "### Fit Performance"
   ]
  },
  {
   "cell_type": "markdown",
   "metadata": {},
   "source": [
    "## Rice\n",
    "\n",
    "From the UCI Library: https://archive.ics.uci.edu/dataset/545/rice+cammeo+and+osmancik"
   ]
  },
  {
   "cell_type": "markdown",
   "metadata": {},
   "source": [
    "### Predictive Performance"
   ]
  },
  {
   "cell_type": "code",
   "execution_count": 18,
   "metadata": {
    "vscode": {
     "languageId": "r"
    }
   },
   "outputs": [],
   "source": [
    "rice <- read.table(\"Data/rice.csv\", sep=\",\", header = TRUE)\n",
    "rice$X <- NULL\n",
    "rice$Class <- sapply(rice$Class, function(x){\n",
    "    if(x == \"Cammeo\") return(1)\n",
    "    return(0)\n",
    "})\n",
    "\n",
    "set.seed(923)\n",
    "index <- sample(x = nrow(rice), size = round(0.8 * nrow(rice)))\n",
    "\n",
    "rice.train <- as.matrix(rice[index, c(8, 1:7)])\n",
    "rice.test <- as.matrix(rice[-index, c(8, 1:7)])"
   ]
  },
  {
   "cell_type": "code",
   "execution_count": 19,
   "metadata": {
    "vscode": {
     "languageId": "r"
    }
   },
   "outputs": [
    {
     "name": "stderr",
     "output_type": "stream",
     "text": [
      "Algorithm converged after 75 iterations.\n",
      "\n",
      "BBVI-Naive: Iteration 100 | lambda: 0.0028 | ELBO: -18603.19 | ELBO Change: 0\n",
      "\n",
      "Algorithm converged after 178 iterations.\n",
      "\n",
      "Algorithm converged after 94 iterations.\n",
      "\n"
     ]
    }
   ],
   "source": [
    "rice.bbvi <- bbvi_logitreg(categories = rice.train[,1], X = scale(rice.train[,-1]), mc_size = 100, method = \"JS+\", learn_rate = rate_adagrad(1e-1), max_iter = 500, converge = 1e-3, verbose = TRUE)\n",
    "rice.qmcvi <- qmcvi_logitreg(categories = rice.train[,1], X = scale(rice.train[,-1]), mc_size = 10, learn_rate = rate_adagrad(1e-1), max_iter = 500, converge = 1e-3, verbose = TRUE)\n",
    "rice.yoasovi <- yoasovi_logitreg(categories = rice.train[,1], X = scale(rice.train[,-1]), learn_rate = rate_adagrad(1e-1), max_iter = 1000, patience=50, verbose = TRUE)"
   ]
  },
  {
   "cell_type": "code",
   "execution_count": 20,
   "metadata": {
    "vscode": {
     "languageId": "r"
    }
   },
   "outputs": [],
   "source": [
    "rice.bbvi.acc <- logitreg_accuracy(rice.bbvi, newdata = list(categories=rice.test[,1], X=scale(rice.test[,-1])))\n",
    "rice.qmcvi.acc <- logitreg_accuracy(rice.qmcvi, newdata = list(categories=rice.test[,1], X=scale(rice.test[,-1])))\n",
    "rice.yoasovi.acc <- logitreg_accuracy(rice.yoasovi, newdata = list(categories=rice.test[,1], X=scale(rice.test[,-1])))"
   ]
  },
  {
   "cell_type": "code",
   "execution_count": 21,
   "metadata": {
    "vscode": {
     "languageId": "r"
    }
   },
   "outputs": [
    {
     "data": {
      "text/html": [
       "<table class=\"dataframe\">\n",
       "<caption>A matrix: 3 x 2 of type dbl</caption>\n",
       "<thead>\n",
       "\t<tr><th scope=col>mean</th><th scope=col>sd</th></tr>\n",
       "</thead>\n",
       "<tbody>\n",
       "\t<tr><td>84.92</td><td>12.95</td></tr>\n",
       "\t<tr><td>74.71</td><td>15.35</td></tr>\n",
       "\t<tr><td>81.01</td><td>14.40</td></tr>\n",
       "</tbody>\n",
       "</table>\n"
      ],
      "text/latex": [
       "A matrix: 3 x 2 of type dbl\n",
       "\\begin{tabular}{ll}\n",
       " mean & sd\\\\\n",
       "\\hline\n",
       "\t 84.92 & 12.95\\\\\n",
       "\t 74.71 & 15.35\\\\\n",
       "\t 81.01 & 14.40\\\\\n",
       "\\end{tabular}\n"
      ],
      "text/markdown": [
       "\n",
       "A matrix: 3 x 2 of type dbl\n",
       "\n",
       "| mean | sd |\n",
       "|---|---|\n",
       "| 84.92 | 12.95 |\n",
       "| 74.71 | 15.35 |\n",
       "| 81.01 | 14.40 |\n",
       "\n"
      ],
      "text/plain": [
       "     mean  sd   \n",
       "[1,] 84.92 12.95\n",
       "[2,] 74.71 15.35\n",
       "[3,] 81.01 14.40"
      ]
     },
     "metadata": {},
     "output_type": "display_data"
    }
   ],
   "source": [
    "rice_accuracy <- round(100 * rbind(\n",
    "    rice.bbvi.acc$auc_simulations,\n",
    "    rice.qmcvi.acc$auc_simulations,\n",
    "    rice.yoasovi.acc$auc_simulations\n",
    "),2)\n",
    "\n",
    "rice_accuracy"
   ]
  },
  {
   "cell_type": "markdown",
   "metadata": {},
   "source": [
    "### Fit Performance"
   ]
  },
  {
   "cell_type": "code",
   "execution_count": 22,
   "metadata": {
    "vscode": {
     "languageId": "r"
    }
   },
   "outputs": [
    {
     "name": "stderr",
     "output_type": "stream",
     "text": [
      "Algorithm converged after 59 iterations.\n",
      "\n",
      "BBVI-Naive: Iteration 100 | lambda: 0.0029 | ELBO: -17902.66 | ELBO Change: 0\n",
      "\n",
      "Algorithm converged after 147 iterations.\n",
      "\n",
      "Algorithm converged after 66 iterations.\n",
      "\n",
      "Algorithm converged after 83 iterations.\n",
      "\n",
      "BBVI-Naive: Iteration 100 | lambda: 0.0023 | ELBO: -16638.62 | ELBO Change: 0\n",
      "\n",
      "Algorithm converged after 153 iterations.\n",
      "\n",
      "Algorithm converged after 66 iterations.\n",
      "\n",
      "Algorithm converged after 41 iterations.\n",
      "\n",
      "BBVI-Naive: Iteration 100 | lambda: 0.0026 | ELBO: -22004.58 | ELBO Change: 0\n",
      "\n",
      "Algorithm converged after 182 iterations.\n",
      "\n",
      "Algorithm converged after 99 iterations.\n",
      "\n",
      "Algorithm converged after 46 iterations.\n",
      "\n",
      "BBVI-Naive: Iteration 100 | lambda: 0.0025 | ELBO: -16607.05 | ELBO Change: 0\n",
      "\n",
      "Algorithm converged after 194 iterations.\n",
      "\n",
      "Algorithm converged after 92 iterations.\n",
      "\n",
      "Algorithm converged after 64 iterations.\n",
      "\n",
      "BBVI-Naive: Iteration 100 | lambda: 0.0035 | ELBO: -13777.99 | ELBO Change: 0\n",
      "\n",
      "Algorithm converged after 165 iterations.\n",
      "\n",
      "YOASOVI-Naive: Iteration 100 | ELBO: -653.19\n",
      "\n",
      "Algorithm converged after 119 iterations.\n",
      "\n",
      "Algorithm converged after 49 iterations.\n",
      "\n",
      "BBVI-Naive: Iteration 100 | lambda: 0.0025 | ELBO: -16596.08 | ELBO Change: 0\n",
      "\n",
      "Algorithm converged after 183 iterations.\n",
      "\n",
      "YOASOVI-Naive: Iteration 100 | ELBO: -612.09\n",
      "\n",
      "Algorithm converged after 142 iterations.\n",
      "\n",
      "Algorithm converged after 14 iterations.\n",
      "\n",
      "BBVI-Naive: Iteration 100 | lambda: 0.0021 | ELBO: -17750.05 | ELBO Change: 0\n",
      "\n",
      "Algorithm converged after 156 iterations.\n",
      "\n",
      "YOASOVI-Naive: Iteration 100 | ELBO: -731.94\n",
      "\n",
      "Algorithm converged after 185 iterations.\n",
      "\n",
      "Algorithm converged after 42 iterations.\n",
      "\n",
      "BBVI-Naive: Iteration 100 | lambda: 0.0038 | ELBO: -25085.69 | ELBO Change: 0\n",
      "\n",
      "Algorithm converged after 143 iterations.\n",
      "\n",
      "Algorithm converged after 87 iterations.\n",
      "\n",
      "Algorithm converged after 99 iterations.\n",
      "\n",
      "BBVI-Naive: Iteration 100 | lambda: 0.0014 | ELBO: -13384.55 | ELBO Change: 0\n",
      "\n",
      "Algorithm converged after 184 iterations.\n",
      "\n",
      "YOASOVI-Naive: Iteration 100 | ELBO: -626.25\n",
      "\n",
      "Algorithm converged after 143 iterations.\n",
      "\n",
      "Algorithm converged after 49 iterations.\n",
      "\n",
      "BBVI-Naive: Iteration 100 | lambda: 0.0013 | ELBO: -9551.07 | ELBO Change: 0\n",
      "\n",
      "Algorithm converged after 134 iterations.\n",
      "\n",
      "YOASOVI-Naive: Iteration 100 | ELBO: -685.97\n",
      "\n",
      "Algorithm converged after 101 iterations.\n",
      "\n"
     ]
    },
    {
     "data": {
      "text/html": [
       "<table class=\"dataframe\">\n",
       "<caption>A tibble: 3 x 9</caption>\n",
       "<thead>\n",
       "\t<tr><th scope=col>Method</th><th scope=col>iterations_mn</th><th scope=col>iterations_sd</th><th scope=col>time_mn</th><th scope=col>time_sd</th><th scope=col>elbo_mn</th><th scope=col>elbo_sd</th><th scope=col>DIC_mn</th><th scope=col>DIC_sd</th></tr>\n",
       "\t<tr><th scope=col>&lt;chr&gt;</th><th scope=col>&lt;dbl&gt;</th><th scope=col>&lt;dbl&gt;</th><th scope=col>&lt;drtn&gt;</th><th scope=col>&lt;dbl&gt;</th><th scope=col>&lt;dbl&gt;</th><th scope=col>&lt;dbl&gt;</th><th scope=col>&lt;dbl&gt;</th><th scope=col>&lt;dbl&gt;</th></tr>\n",
       "</thead>\n",
       "<tbody>\n",
       "\t<tr><td>BBVI   </td><td> 54.6</td><td>23.60</td><td>6.17 secs</td><td>2.86</td><td> -3356.71</td><td> 437.19</td><td> 6750.66</td><td> 874.7</td></tr>\n",
       "\t<tr><td>QMCVI  </td><td>164.1</td><td>20.55</td><td>2.52 secs</td><td>0.33</td><td>-11173.35</td><td>1597.66</td><td>22367.37</td><td>3194.3</td></tr>\n",
       "\t<tr><td>YOASOVI</td><td>110.0</td><td>37.63</td><td>0.09 secs</td><td>0.05</td><td>  -645.05</td><td>  32.66</td><td> 1323.48</td><td>  65.3</td></tr>\n",
       "</tbody>\n",
       "</table>\n"
      ],
      "text/latex": [
       "A tibble: 3 x 9\n",
       "\\begin{tabular}{lllllllll}\n",
       " Method & iterations\\_mn & iterations\\_sd & time\\_mn & time\\_sd & elbo\\_mn & elbo\\_sd & DIC\\_mn & DIC\\_sd\\\\\n",
       " <chr> & <dbl> & <dbl> & <drtn> & <dbl> & <dbl> & <dbl> & <dbl> & <dbl>\\\\\n",
       "\\hline\n",
       "\t BBVI    &  54.6 & 23.60 & 6.17 secs & 2.86 &  -3356.71 &  437.19 &  6750.66 &  874.7\\\\\n",
       "\t QMCVI   & 164.1 & 20.55 & 2.52 secs & 0.33 & -11173.35 & 1597.66 & 22367.37 & 3194.3\\\\\n",
       "\t YOASOVI & 110.0 & 37.63 & 0.09 secs & 0.05 &   -645.05 &   32.66 &  1323.48 &   65.3\\\\\n",
       "\\end{tabular}\n"
      ],
      "text/markdown": [
       "\n",
       "A tibble: 3 x 9\n",
       "\n",
       "| Method &lt;chr&gt; | iterations_mn &lt;dbl&gt; | iterations_sd &lt;dbl&gt; | time_mn &lt;drtn&gt; | time_sd &lt;dbl&gt; | elbo_mn &lt;dbl&gt; | elbo_sd &lt;dbl&gt; | DIC_mn &lt;dbl&gt; | DIC_sd &lt;dbl&gt; |\n",
       "|---|---|---|---|---|---|---|---|---|\n",
       "| BBVI    |  54.6 | 23.60 | 6.17 secs | 2.86 |  -3356.71 |  437.19 |  6750.66 |  874.7 |\n",
       "| QMCVI   | 164.1 | 20.55 | 2.52 secs | 0.33 | -11173.35 | 1597.66 | 22367.37 | 3194.3 |\n",
       "| YOASOVI | 110.0 | 37.63 | 0.09 secs | 0.05 |   -645.05 |   32.66 |  1323.48 |   65.3 |\n",
       "\n"
      ],
      "text/plain": [
       "  Method  iterations_mn iterations_sd time_mn   time_sd elbo_mn   elbo_sd\n",
       "1 BBVI     54.6         23.60         6.17 secs 2.86     -3356.71  437.19\n",
       "2 QMCVI   164.1         20.55         2.52 secs 0.33    -11173.35 1597.66\n",
       "3 YOASOVI 110.0         37.63         0.09 secs 0.05      -645.05   32.66\n",
       "  DIC_mn   DIC_sd\n",
       "1  6750.66  874.7\n",
       "2 22367.37 3194.3\n",
       "3  1323.48   65.3"
      ]
     },
     "metadata": {},
     "output_type": "display_data"
    }
   ],
   "source": [
    "rice_performances <- foreach(seed = 0:9) %do%{\n",
    "    rice.bbvi <- bbvi_logitreg(categories = rice.train[,1], X = scale(rice.train[,-1]), mc_size = 100, method = \"JS+\", learn_rate = rate_adagrad(1e-1), max_iter = 500, converge = 1e-3, seed = seed, verbose = TRUE)\n",
    "    rice.qmcvi <- qmcvi_logitreg(categories = rice.train[,1], X = scale(rice.train[,-1]), mc_size = 10, learn_rate = rate_adagrad(1e-1), max_iter = 500, converge = 1e-3, seed = seed, verbose = TRUE)\n",
    "    rice.yoasovi <- yoasovi_logitreg(categories = rice.train[,1], X = scale(rice.train[,-1]), learn_rate = rate_adagrad(1e-1), max_iter = 1000, patience=50, seed = seed, verbose = TRUE)\n",
    "\n",
    "    return(rbind(\n",
    "        cbind(Method = \"BBVI\", logitreg_summary(rice.bbvi)),\n",
    "        cbind(Method = \"QMCVI\", logitreg_summary(rice.qmcvi)),\n",
    "        cbind(Method = \"YOASOVI\", logitreg_summary(rice.yoasovi))\n",
    "    ))\n",
    "}\n",
    "\n",
    "rice_performances <- do.call('rbind', rice_performances)\n",
    "rice_performances <- rice_performances %>%\n",
    "    group_by(Method) %>%\n",
    "    summarise(iterations_mn = round(mean(iter),2), iterations_sd = round(sd(iter),2), time_mn = round(mean(elapsed),2), time_sd = round(sd(elapsed),2),\n",
    "                elbo_mn = round(mean(elbo),2), elbo_sd = round(sd(elbo),2), DIC_mn = round(mean(DIC),2), DIC_sd = round(sd(DIC),2))\n",
    "\n",
    "rice_performances"
   ]
  },
  {
   "cell_type": "markdown",
   "metadata": {},
   "source": [
    "## Diabetes\n",
    "\n",
    "Also from the LibSVM collection: https://www.csie.ntu.edu.tw/~cjlin/libsvmtools/datasets/binary.html#diabetes"
   ]
  },
  {
   "cell_type": "markdown",
   "metadata": {},
   "source": [
    "### Predictive Performance"
   ]
  },
  {
   "cell_type": "code",
   "execution_count": 24,
   "metadata": {
    "vscode": {
     "languageId": "r"
    }
   },
   "outputs": [],
   "source": [
    "diabetes <- read.table(\"Data/diabetes.csv\", sep=\" \", header = FALSE)\n",
    "diabetes[,1] <- sapply(diabetes[[1]], function(x){\n",
    "    if(x == -1) return(0)\n",
    "    return(x)\n",
    "})\n",
    "\n",
    "index <- sample(x = nrow(diabetes), size = round(0.8 * nrow(diabetes)))\n",
    "\n",
    "diabetes.train <- as.matrix(diabetes[index, ])\n",
    "diabetes.test <- as.matrix(diabetes[-index, ])"
   ]
  },
  {
   "cell_type": "code",
   "execution_count": 25,
   "metadata": {
    "vscode": {
     "languageId": "r"
    }
   },
   "outputs": [
    {
     "name": "stderr",
     "output_type": "stream",
     "text": [
      "BBVI-JS+: Iteration 100 | lambda: 0.0049 | ELBO: -3467.76 | ELBO Change: 0\n",
      "\n",
      "BBVI-JS+: Iteration 200 | lambda: 0.0041 | ELBO: -3599.09 | ELBO Change: 0\n",
      "\n",
      "BBVI-JS+: Iteration 300 | lambda: 0.0032 | ELBO: -3626.58 | ELBO Change: 0\n",
      "\n",
      "BBVI-JS+: Iteration 400 | lambda: 0.0029 | ELBO: -3512.94 | ELBO Change: 0\n",
      "\n",
      "BBVI-JS+: Iteration 500 | lambda: 0.0036 | ELBO: -3635 | ELBO Change: 0\n",
      "\n",
      "BBVI-JS+: Iteration 600 | lambda: 0.0021 | ELBO: -3558.93 | ELBO Change: 0\n",
      "\n",
      "BBVI-JS+: Iteration 700 | lambda: 0.0014 | ELBO: -3652.67 | ELBO Change: 0\n",
      "\n",
      "BBVI-JS+: Iteration 800 | lambda: 0.002 | ELBO: -3705.22 | ELBO Change: 0\n",
      "\n",
      "BBVI-JS+: Iteration 900 | lambda: 0.002 | ELBO: -3500.31 | ELBO Change: 0\n",
      "\n",
      "Algorithm converged after 927 iterations.\n",
      "\n",
      "BBVI-Naive: Iteration 100 | lambda: 0.0022 | ELBO: -3410.73 | ELBO Change: 0\n",
      "\n",
      "BBVI-Naive: Iteration 200 | lambda: 0.0017 | ELBO: -3806.25 | ELBO Change: 0\n",
      "\n",
      "Algorithm converged after 225 iterations.\n",
      "\n",
      "Algorithm converged after 55 iterations.\n",
      "\n"
     ]
    }
   ],
   "source": [
    "diabetes.bbvi <- bbvi_logitreg(categories = diabetes.train[,1], X = scale(diabetes.train[,-1]), mc_size = 100, method = \"JS+\", learn_rate = rate_adagrad(1e-1), max_iter = 1000, converge = 1e-3, verbose = TRUE)\n",
    "diabetes.qmcvi <- qmcvi_logitreg(categories = diabetes.train[,1], X = scale(diabetes.train[,-1]), mc_size = 10, learn_rate = rate_adagrad(1e-1), max_iter = 1000, converge = 1e-3, verbose = TRUE)\n",
    "diabetes.yoasovi <- yoasovi_logitreg(categories = diabetes.train[,1], X = scale(diabetes.train[,-1]), learn_rate = rate_adagrad(1e-1), max_iter = 1000, patience = 50, verbose = TRUE)"
   ]
  },
  {
   "cell_type": "code",
   "execution_count": 26,
   "metadata": {
    "vscode": {
     "languageId": "r"
    }
   },
   "outputs": [],
   "source": [
    "diabetes.bbvi.acc <- logitreg_accuracy(diabetes.bbvi, newdata = list(categories=diabetes.test[,1], X=scale(diabetes.test[,-1])))\n",
    "diabetes.qmcvi.acc <- logitreg_accuracy(diabetes.qmcvi, newdata = list(categories=diabetes.test[,1], X=scale(diabetes.test[,-1])))\n",
    "diabetes.yoasovi.acc <- logitreg_accuracy(diabetes.yoasovi, newdata = list(categories=diabetes.test[,1], X=scale(diabetes.test[,-1])))"
   ]
  },
  {
   "cell_type": "code",
   "execution_count": 27,
   "metadata": {
    "vscode": {
     "languageId": "r"
    }
   },
   "outputs": [
    {
     "data": {
      "text/html": [
       "<table class=\"dataframe\">\n",
       "<caption>A matrix: 3 x 2 of type dbl</caption>\n",
       "<thead>\n",
       "\t<tr><th scope=col>mean</th><th scope=col>sd</th></tr>\n",
       "</thead>\n",
       "<tbody>\n",
       "\t<tr><td>60.28</td><td>8.55</td></tr>\n",
       "\t<tr><td>60.36</td><td>8.58</td></tr>\n",
       "\t<tr><td>65.31</td><td>9.73</td></tr>\n",
       "</tbody>\n",
       "</table>\n"
      ],
      "text/latex": [
       "A matrix: 3 x 2 of type dbl\n",
       "\\begin{tabular}{ll}\n",
       " mean & sd\\\\\n",
       "\\hline\n",
       "\t 60.28 & 8.55\\\\\n",
       "\t 60.36 & 8.58\\\\\n",
       "\t 65.31 & 9.73\\\\\n",
       "\\end{tabular}\n"
      ],
      "text/markdown": [
       "\n",
       "A matrix: 3 x 2 of type dbl\n",
       "\n",
       "| mean | sd |\n",
       "|---|---|\n",
       "| 60.28 | 8.55 |\n",
       "| 60.36 | 8.58 |\n",
       "| 65.31 | 9.73 |\n",
       "\n"
      ],
      "text/plain": [
       "     mean  sd  \n",
       "[1,] 60.28 8.55\n",
       "[2,] 60.36 8.58\n",
       "[3,] 65.31 9.73"
      ]
     },
     "metadata": {},
     "output_type": "display_data"
    }
   ],
   "source": [
    "diabetes_accuracy <- round(100 * rbind(\n",
    "    diabetes.bbvi.acc$auc_simulations,\n",
    "    diabetes.qmcvi.acc$auc_simulations,\n",
    "    diabetes.yoasovi.acc$auc_simulations\n",
    "),2)\n",
    "\n",
    "diabetes_accuracy"
   ]
  },
  {
   "cell_type": "markdown",
   "metadata": {},
   "source": [
    "### Fit Performance"
   ]
  },
  {
   "cell_type": "code",
   "execution_count": 28,
   "metadata": {
    "vscode": {
     "languageId": "r"
    }
   },
   "outputs": [
    {
     "name": "stderr",
     "output_type": "stream",
     "text": [
      "BBVI-JS+: Iteration 100 | lambda: 0.0056 | ELBO: -3662.88 | ELBO Change: 0\n",
      "\n",
      "BBVI-JS+: Iteration 200 | lambda: 0.0028 | ELBO: -3616.36 | ELBO Change: 0\n",
      "\n",
      "BBVI-JS+: Iteration 300 | lambda: 0.003 | ELBO: -3621.04 | ELBO Change: 0\n",
      "\n",
      "BBVI-JS+: Iteration 400 | lambda: 0.0026 | ELBO: -3559.43 | ELBO Change: 0\n",
      "\n",
      "BBVI-JS+: Iteration 500 | lambda: 0.0016 | ELBO: -3525.19 | ELBO Change: 0\n",
      "\n",
      "BBVI-JS+: Iteration 600 | lambda: 0.0024 | ELBO: -3634.46 | ELBO Change: 0\n",
      "\n",
      "BBVI-JS+: Iteration 700 | lambda: 0.0022 | ELBO: -3544.72 | ELBO Change: 0\n",
      "\n",
      "BBVI-JS+: Iteration 800 | lambda: 0.0016 | ELBO: -3660.36 | ELBO Change: 0\n",
      "\n",
      "BBVI-JS+: Iteration 900 | lambda: 0.0015 | ELBO: -3555 | ELBO Change: 0\n",
      "\n",
      "Algorithm converged after 924 iterations.\n",
      "\n",
      "BBVI-Naive: Iteration 100 | lambda: 0.0024 | ELBO: -3509.35 | ELBO Change: 0\n",
      "\n",
      "Algorithm converged after 165 iterations.\n",
      "\n",
      "YOASOVI-Naive: Iteration 100 | ELBO: -405.54\n",
      "\n",
      "Algorithm converged after 131 iterations.\n",
      "\n",
      "BBVI-JS+: Iteration 100 | lambda: 0.0048 | ELBO: -3596.37 | ELBO Change: 0\n",
      "\n",
      "BBVI-JS+: Iteration 200 | lambda: 0.0037 | ELBO: -3524.82 | ELBO Change: 0\n",
      "\n",
      "BBVI-JS+: Iteration 300 | lambda: 0.0034 | ELBO: -3710.18 | ELBO Change: 0\n",
      "\n",
      "BBVI-JS+: Iteration 400 | lambda: 0.0032 | ELBO: -3639.83 | ELBO Change: 0\n",
      "\n",
      "BBVI-JS+: Iteration 500 | lambda: 0.0018 | ELBO: -3499.74 | ELBO Change: 0\n",
      "\n",
      "BBVI-JS+: Iteration 600 | lambda: 0.0022 | ELBO: -3618.53 | ELBO Change: 0\n",
      "\n",
      "BBVI-JS+: Iteration 700 | lambda: 0.0019 | ELBO: -3654.77 | ELBO Change: 0\n",
      "\n",
      "BBVI-JS+: Iteration 800 | lambda: 0.0018 | ELBO: -3528.26 | ELBO Change: 0\n",
      "\n",
      "BBVI-JS+: Iteration 900 | lambda: 0.0017 | ELBO: -3557.56 | ELBO Change: 0\n",
      "\n",
      "Algorithm converged after 913 iterations.\n",
      "\n",
      "BBVI-Naive: Iteration 100 | lambda: 0.0022 | ELBO: -3361.44 | ELBO Change: 0\n",
      "\n",
      "BBVI-Naive: Iteration 200 | lambda: 0.0016 | ELBO: -3066.69 | ELBO Change: 0\n",
      "\n",
      "Algorithm converged after 268 iterations.\n",
      "\n",
      "YOASOVI-Naive: Iteration 100 | ELBO: -598.29\n",
      "\n",
      "Algorithm converged after 157 iterations.\n",
      "\n",
      "BBVI-JS+: Iteration 100 | lambda: 0.0061 | ELBO: -3526.26 | ELBO Change: 0\n",
      "\n",
      "BBVI-JS+: Iteration 200 | lambda: 0.0039 | ELBO: -3526 | ELBO Change: 0\n",
      "\n",
      "BBVI-JS+: Iteration 300 | lambda: 0.0034 | ELBO: -3622.05 | ELBO Change: 0\n",
      "\n",
      "BBVI-JS+: Iteration 400 | lambda: 0.0021 | ELBO: -3596.38 | ELBO Change: 0\n",
      "\n",
      "BBVI-JS+: Iteration 500 | lambda: 0.0019 | ELBO: -3542.4 | ELBO Change: 0\n",
      "\n",
      "BBVI-JS+: Iteration 600 | lambda: 0.0022 | ELBO: -3649.78 | ELBO Change: 0\n",
      "\n",
      "BBVI-JS+: Iteration 700 | lambda: 0.0017 | ELBO: -3532.72 | ELBO Change: 0\n",
      "\n",
      "BBVI-JS+: Iteration 800 | lambda: 0.0019 | ELBO: -3691.43 | ELBO Change: 0\n",
      "\n",
      "Algorithm converged after 818 iterations.\n",
      "\n",
      "BBVI-Naive: Iteration 100 | lambda: 0.0026 | ELBO: -3573.98 | ELBO Change: 0\n",
      "\n",
      "BBVI-Naive: Iteration 200 | lambda: 0.0019 | ELBO: -3486.69 | ELBO Change: 0\n",
      "\n",
      "Algorithm converged after 221 iterations.\n",
      "\n",
      "YOASOVI-Naive: Iteration 100 | ELBO: -537.57\n",
      "\n",
      "Algorithm converged after 109 iterations.\n",
      "\n",
      "BBVI-JS+: Iteration 100 | lambda: 0.0055 | ELBO: -3600.46 | ELBO Change: 0\n",
      "\n",
      "BBVI-JS+: Iteration 200 | lambda: 0.0041 | ELBO: -3637.28 | ELBO Change: 0\n",
      "\n",
      "BBVI-JS+: Iteration 300 | lambda: 0.0023 | ELBO: -3658.49 | ELBO Change: 0\n",
      "\n",
      "BBVI-JS+: Iteration 400 | lambda: 0.0029 | ELBO: -3625.91 | ELBO Change: 0\n",
      "\n",
      "BBVI-JS+: Iteration 500 | lambda: 0.0025 | ELBO: -3542.97 | ELBO Change: 0\n",
      "\n",
      "BBVI-JS+: Iteration 600 | lambda: 0.0021 | ELBO: -3604.8 | ELBO Change: 0\n",
      "\n",
      "BBVI-JS+: Iteration 700 | lambda: 0.0015 | ELBO: -3572.44 | ELBO Change: 0\n",
      "\n",
      "BBVI-JS+: Iteration 800 | lambda: 0.0021 | ELBO: -3690.06 | ELBO Change: 0\n",
      "\n",
      "Algorithm converged after 868 iterations.\n",
      "\n",
      "BBVI-Naive: Iteration 100 | lambda: 0.003 | ELBO: -3600.88 | ELBO Change: 0\n",
      "\n",
      "BBVI-Naive: Iteration 200 | lambda: 0.0014 | ELBO: -3643.42 | ELBO Change: 0\n",
      "\n",
      "Algorithm converged after 249 iterations.\n",
      "\n",
      "Algorithm converged after 68 iterations.\n",
      "\n",
      "BBVI-JS+: Iteration 100 | lambda: 0.0045 | ELBO: -3654.61 | ELBO Change: 0\n",
      "\n",
      "BBVI-JS+: Iteration 200 | lambda: 0.0039 | ELBO: -3573.9 | ELBO Change: 0\n",
      "\n",
      "BBVI-JS+: Iteration 300 | lambda: 0.0033 | ELBO: -3559.38 | ELBO Change: 0\n",
      "\n",
      "BBVI-JS+: Iteration 400 | lambda: 0.0032 | ELBO: -3601.51 | ELBO Change: 0\n",
      "\n",
      "BBVI-JS+: Iteration 500 | lambda: 0.0018 | ELBO: -3604.71 | ELBO Change: 0\n",
      "\n",
      "BBVI-JS+: Iteration 600 | lambda: 0.0022 | ELBO: -3489.07 | ELBO Change: 0\n",
      "\n",
      "BBVI-JS+: Iteration 700 | lambda: 0.0019 | ELBO: -3689.22 | ELBO Change: 0\n",
      "\n",
      "BBVI-JS+: Iteration 800 | lambda: 0.0015 | ELBO: -3666.8 | ELBO Change: 0\n",
      "\n",
      "BBVI-JS+: Iteration 900 | lambda: 0.0014 | ELBO: -3720.04 | ELBO Change: 0\n",
      "\n",
      "BBVI-JS+: Iteration 1000 | lambda: 0.0013 | ELBO: -3588.1 | ELBO Change: 0\n",
      "\n",
      "Algorithm did not converge after 1000 steps. Results may not be reliable.\n",
      "\n",
      "BBVI-Naive: Iteration 100 | lambda: 0.0023 | ELBO: -3629.46 | ELBO Change: 0\n",
      "\n",
      "BBVI-Naive: Iteration 200 | lambda: 0.002 | ELBO: -3667.61 | ELBO Change: 0\n",
      "\n",
      "Algorithm converged after 237 iterations.\n",
      "\n",
      "Algorithm converged after 65 iterations.\n",
      "\n",
      "BBVI-JS+: Iteration 100 | lambda: 0.0039 | ELBO: -3752.36 | ELBO Change: 0\n",
      "\n",
      "BBVI-JS+: Iteration 200 | lambda: 0.0043 | ELBO: -3542.69 | ELBO Change: 0\n",
      "\n",
      "BBVI-JS+: Iteration 300 | lambda: 0.0029 | ELBO: -3398.42 | ELBO Change: 0\n",
      "\n",
      "BBVI-JS+: Iteration 400 | lambda: 0.0024 | ELBO: -3540.35 | ELBO Change: 0\n",
      "\n",
      "BBVI-JS+: Iteration 500 | lambda: 0.0022 | ELBO: -3620.62 | ELBO Change: 0\n",
      "\n",
      "BBVI-JS+: Iteration 600 | lambda: 0.0021 | ELBO: -3602.65 | ELBO Change: 0\n",
      "\n",
      "BBVI-JS+: Iteration 700 | lambda: 0.0017 | ELBO: -3628.25 | ELBO Change: 0\n",
      "\n",
      "BBVI-JS+: Iteration 800 | lambda: 0.0026 | ELBO: -3663 | ELBO Change: 0\n",
      "\n",
      "BBVI-JS+: Iteration 900 | lambda: 0.0019 | ELBO: -3526.56 | ELBO Change: 0\n",
      "\n",
      "BBVI-JS+: Iteration 1000 | lambda: 0.002 | ELBO: -3577.55 | ELBO Change: 0\n",
      "\n",
      "Algorithm did not converge after 1000 steps. Results may not be reliable.\n",
      "\n",
      "BBVI-Naive: Iteration 100 | lambda: 0.0022 | ELBO: -3503.74 | ELBO Change: 0\n",
      "\n",
      "BBVI-Naive: Iteration 200 | lambda: 0.0013 | ELBO: -3367.22 | ELBO Change: 0\n",
      "\n",
      "Algorithm converged after 281 iterations.\n",
      "\n",
      "Algorithm converged after 95 iterations.\n",
      "\n",
      "BBVI-JS+: Iteration 100 | lambda: 0.0061 | ELBO: -3613.11 | ELBO Change: 0\n",
      "\n",
      "BBVI-JS+: Iteration 200 | lambda: 0.0037 | ELBO: -3497.15 | ELBO Change: 0\n",
      "\n",
      "BBVI-JS+: Iteration 300 | lambda: 0.0022 | ELBO: -3639.11 | ELBO Change: 0\n",
      "\n",
      "BBVI-JS+: Iteration 400 | lambda: 0.0034 | ELBO: -3545.8 | ELBO Change: 0\n",
      "\n",
      "BBVI-JS+: Iteration 500 | lambda: 0.0022 | ELBO: -3540.1 | ELBO Change: 0\n",
      "\n",
      "BBVI-JS+: Iteration 600 | lambda: 0.0019 | ELBO: -3538.36 | ELBO Change: 0\n",
      "\n",
      "BBVI-JS+: Iteration 700 | lambda: 0.0025 | ELBO: -3758.85 | ELBO Change: 0\n",
      "\n",
      "BBVI-JS+: Iteration 800 | lambda: 0.0019 | ELBO: -3619.58 | ELBO Change: 0\n",
      "\n",
      "Algorithm converged after 813 iterations.\n",
      "\n",
      "BBVI-Naive: Iteration 100 | lambda: 0.0023 | ELBO: -3536.76 | ELBO Change: 0\n",
      "\n",
      "Algorithm converged after 198 iterations.\n",
      "\n",
      "Algorithm converged after 95 iterations.\n",
      "\n",
      "BBVI-JS+: Iteration 100 | lambda: 0.004 | ELBO: -3573.63 | ELBO Change: 0\n",
      "\n",
      "BBVI-JS+: Iteration 200 | lambda: 0.0032 | ELBO: -3555.32 | ELBO Change: 0\n",
      "\n",
      "BBVI-JS+: Iteration 300 | lambda: 0.0038 | ELBO: -3571.11 | ELBO Change: 0\n",
      "\n",
      "BBVI-JS+: Iteration 400 | lambda: 0.0033 | ELBO: -3431.49 | ELBO Change: 0\n",
      "\n",
      "BBVI-JS+: Iteration 500 | lambda: 0.0018 | ELBO: -3594.28 | ELBO Change: 0\n",
      "\n",
      "BBVI-JS+: Iteration 600 | lambda: 0.002 | ELBO: -3798.83 | ELBO Change: 0\n",
      "\n",
      "BBVI-JS+: Iteration 700 | lambda: 0.0019 | ELBO: -3451.4 | ELBO Change: 0\n",
      "\n",
      "Algorithm converged after 755 iterations.\n",
      "\n",
      "BBVI-Naive: Iteration 100 | lambda: 0.0019 | ELBO: -3196.28 | ELBO Change: 0\n",
      "\n",
      "BBVI-Naive: Iteration 200 | lambda: 0.0016 | ELBO: -3631.82 | ELBO Change: 0\n",
      "\n",
      "Algorithm converged after 233 iterations.\n",
      "\n",
      "Algorithm converged after 56 iterations.\n",
      "\n",
      "BBVI-JS+: Iteration 100 | lambda: 0.0044 | ELBO: -3624.86 | ELBO Change: 0\n",
      "\n",
      "BBVI-JS+: Iteration 200 | lambda: 0.0031 | ELBO: -3672.09 | ELBO Change: 0\n",
      "\n",
      "BBVI-JS+: Iteration 300 | lambda: 0.0032 | ELBO: -3498.17 | ELBO Change: 0\n",
      "\n",
      "BBVI-JS+: Iteration 400 | lambda: 0.003 | ELBO: -3546.14 | ELBO Change: 0\n",
      "\n",
      "BBVI-JS+: Iteration 500 | lambda: 0.0023 | ELBO: -3617.33 | ELBO Change: 0\n",
      "\n",
      "BBVI-JS+: Iteration 600 | lambda: 0.0027 | ELBO: -3485 | ELBO Change: 0\n",
      "\n",
      "BBVI-JS+: Iteration 700 | lambda: 0.0014 | ELBO: -3624.59 | ELBO Change: 0\n",
      "\n",
      "BBVI-JS+: Iteration 800 | lambda: 0.0014 | ELBO: -3632.56 | ELBO Change: 0\n",
      "\n",
      "BBVI-JS+: Iteration 900 | lambda: 0.0021 | ELBO: -3698.53 | ELBO Change: 0\n",
      "\n",
      "BBVI-JS+: Iteration 1000 | lambda: 0.0021 | ELBO: -3637.71 | ELBO Change: 0\n",
      "\n",
      "Algorithm did not converge after 1000 steps. Results may not be reliable.\n",
      "\n",
      "BBVI-Naive: Iteration 100 | lambda: 0.0021 | ELBO: -3210.46 | ELBO Change: 0\n",
      "\n",
      "BBVI-Naive: Iteration 200 | lambda: 0.0016 | ELBO: -3259.05 | ELBO Change: 0\n",
      "\n",
      "Algorithm converged after 268 iterations.\n",
      "\n",
      "Algorithm converged after 68 iterations.\n",
      "\n",
      "BBVI-JS+: Iteration 100 | lambda: 0.0046 | ELBO: -3579.85 | ELBO Change: 0\n",
      "\n",
      "BBVI-JS+: Iteration 200 | lambda: 0.0047 | ELBO: -3513.91 | ELBO Change: 0\n",
      "\n",
      "BBVI-JS+: Iteration 300 | lambda: 0.003 | ELBO: -3678.12 | ELBO Change: 0\n",
      "\n",
      "BBVI-JS+: Iteration 400 | lambda: 0.0038 | ELBO: -3628.31 | ELBO Change: 0\n",
      "\n",
      "BBVI-JS+: Iteration 500 | lambda: 0.0021 | ELBO: -3459.3 | ELBO Change: 0\n",
      "\n",
      "BBVI-JS+: Iteration 600 | lambda: 0.0031 | ELBO: -3647.5 | ELBO Change: 0\n",
      "\n",
      "BBVI-JS+: Iteration 700 | lambda: 0.0024 | ELBO: -3648.6 | ELBO Change: 0\n",
      "\n",
      "Algorithm converged after 711 iterations.\n",
      "\n",
      "BBVI-Naive: Iteration 100 | lambda: 0.0019 | ELBO: -3070.22 | ELBO Change: 0\n",
      "\n",
      "BBVI-Naive: Iteration 200 | lambda: 0.0017 | ELBO: -3399.9 | ELBO Change: 0\n",
      "\n",
      "Algorithm converged after 237 iterations.\n",
      "\n",
      "YOASOVI-Naive: Iteration 100 | ELBO: -466.26\n",
      "\n",
      "Algorithm converged after 104 iterations.\n",
      "\n"
     ]
    },
    {
     "data": {
      "text/html": [
       "<table class=\"dataframe\">\n",
       "<caption>A tibble: 3 x 9</caption>\n",
       "<thead>\n",
       "\t<tr><th scope=col>Method</th><th scope=col>iterations_mn</th><th scope=col>iterations_sd</th><th scope=col>time_mn</th><th scope=col>time_sd</th><th scope=col>elbo_mn</th><th scope=col>elbo_sd</th><th scope=col>DIC_mn</th><th scope=col>DIC_sd</th></tr>\n",
       "\t<tr><th scope=col>&lt;chr&gt;</th><th scope=col>&lt;dbl&gt;</th><th scope=col>&lt;dbl&gt;</th><th scope=col>&lt;drtn&gt;</th><th scope=col>&lt;dbl&gt;</th><th scope=col>&lt;dbl&gt;</th><th scope=col>&lt;dbl&gt;</th><th scope=col>&lt;dbl&gt;</th><th scope=col>&lt;dbl&gt;</th></tr>\n",
       "</thead>\n",
       "<tbody>\n",
       "\t<tr><td>BBVI   </td><td>880.2</td><td>104.82</td><td>109.94 secs</td><td>36.59</td><td>-3552.64</td><td> 76.61</td><td>7090.09</td><td>152.86</td></tr>\n",
       "\t<tr><td>QMCVI  </td><td>235.7</td><td> 34.90</td><td>  4.66 secs</td><td> 2.15</td><td>-3319.70</td><td>274.17</td><td>6660.00</td><td>548.62</td></tr>\n",
       "\t<tr><td>YOASOVI</td><td> 94.8</td><td> 32.14</td><td>  0.08 secs</td><td> 0.06</td><td> -491.62</td><td> 61.88</td><td>1020.36</td><td>123.55</td></tr>\n",
       "</tbody>\n",
       "</table>\n"
      ],
      "text/latex": [
       "A tibble: 3 x 9\n",
       "\\begin{tabular}{lllllllll}\n",
       " Method & iterations\\_mn & iterations\\_sd & time\\_mn & time\\_sd & elbo\\_mn & elbo\\_sd & DIC\\_mn & DIC\\_sd\\\\\n",
       " <chr> & <dbl> & <dbl> & <drtn> & <dbl> & <dbl> & <dbl> & <dbl> & <dbl>\\\\\n",
       "\\hline\n",
       "\t BBVI    & 880.2 & 104.82 & 109.94 secs & 36.59 & -3552.64 &  76.61 & 7090.09 & 152.86\\\\\n",
       "\t QMCVI   & 235.7 &  34.90 &   4.66 secs &  2.15 & -3319.70 & 274.17 & 6660.00 & 548.62\\\\\n",
       "\t YOASOVI &  94.8 &  32.14 &   0.08 secs &  0.06 &  -491.62 &  61.88 & 1020.36 & 123.55\\\\\n",
       "\\end{tabular}\n"
      ],
      "text/markdown": [
       "\n",
       "A tibble: 3 x 9\n",
       "\n",
       "| Method &lt;chr&gt; | iterations_mn &lt;dbl&gt; | iterations_sd &lt;dbl&gt; | time_mn &lt;drtn&gt; | time_sd &lt;dbl&gt; | elbo_mn &lt;dbl&gt; | elbo_sd &lt;dbl&gt; | DIC_mn &lt;dbl&gt; | DIC_sd &lt;dbl&gt; |\n",
       "|---|---|---|---|---|---|---|---|---|\n",
       "| BBVI    | 880.2 | 104.82 | 109.94 secs | 36.59 | -3552.64 |  76.61 | 7090.09 | 152.86 |\n",
       "| QMCVI   | 235.7 |  34.90 |   4.66 secs |  2.15 | -3319.70 | 274.17 | 6660.00 | 548.62 |\n",
       "| YOASOVI |  94.8 |  32.14 |   0.08 secs |  0.06 |  -491.62 |  61.88 | 1020.36 | 123.55 |\n",
       "\n"
      ],
      "text/plain": [
       "  Method  iterations_mn iterations_sd time_mn     time_sd elbo_mn  elbo_sd\n",
       "1 BBVI    880.2         104.82        109.94 secs 36.59   -3552.64  76.61 \n",
       "2 QMCVI   235.7          34.90          4.66 secs  2.15   -3319.70 274.17 \n",
       "3 YOASOVI  94.8          32.14          0.08 secs  0.06    -491.62  61.88 \n",
       "  DIC_mn  DIC_sd\n",
       "1 7090.09 152.86\n",
       "2 6660.00 548.62\n",
       "3 1020.36 123.55"
      ]
     },
     "metadata": {},
     "output_type": "display_data"
    }
   ],
   "source": [
    "diabetes_performances <- foreach(seed = 0:9) %do%{\n",
    "    diabetes.bbvi <- bbvi_logitreg(categories = diabetes.train[,1], X = scale(diabetes.train[,-1]), mc_size = 100, method = \"JS+\", learn_rate = rate_adagrad(1e-1), max_iter = 1000, converge = 1e-3, seed = seed, verbose = TRUE)\n",
    "    diabetes.qmcvi <- qmcvi_logitreg(categories = diabetes.train[,1], X = scale(diabetes.train[,-1]), mc_size = 10, learn_rate = rate_adagrad(1e-1), max_iter = 1000, converge = 1e-3, seed = seed, verbose = TRUE)\n",
    "    diabetes.yoasovi <- yoasovi_logitreg(categories = diabetes.train[,1], X = scale(diabetes.train[,-1]), learn_rate = rate_adagrad(1e-1), max_iter = 1000, patience = 50, seed = seed, verbose = TRUE)\n",
    "\n",
    "    return(rbind(\n",
    "        cbind(Method = \"BBVI\", logitreg_summary(diabetes.bbvi)),\n",
    "        cbind(Method = \"QMCVI\", logitreg_summary(diabetes.qmcvi)),\n",
    "        cbind(Method = \"YOASOVI\", logitreg_summary(diabetes.yoasovi))\n",
    "    ))\n",
    "}\n",
    "\n",
    "diabetes_performances <- do.call('rbind', diabetes_performances)\n",
    "diabetes_performances <- diabetes_performances %>%\n",
    "    group_by(Method) %>%\n",
    "    summarise(iterations_mn = round(mean(iter),2), iterations_sd = round(sd(iter),2), time_mn = round(mean(elapsed),2), time_sd = round(sd(elapsed),2),\n",
    "                elbo_mn = round(mean(elbo),2), elbo_sd = round(sd(elbo),2), DIC_mn = round(mean(DIC),2), DIC_sd = round(sd(DIC),2))\n",
    "\n",
    "diabetes_performances"
   ]
  },
  {
   "cell_type": "markdown",
   "metadata": {},
   "source": [
    "## Covertype\n",
    "\n",
    "From the UCI Machine Learning repositiory: https://archive.ics.uci.edu/dataset/31/covertype"
   ]
  },
  {
   "cell_type": "code",
   "execution_count": 29,
   "metadata": {
    "vscode": {
     "languageId": "r"
    }
   },
   "outputs": [],
   "source": [
    "covertype <- read.table(gzfile(\"Data/covtype.data.gz\"), sep = \",\")\n",
    "covertype <- as.matrix(covertype[covertype$V55 %in% c(1,2), ])\n",
    "\n",
    "set.seed(923)\n",
    "index <- sample(x = nrow(covertype), size = round(0.8 * nrow(covertype)))\n",
    "\n",
    "covertype.train <- as.matrix(covertype[index, ])\n",
    "covertype.test <- as.matrix(covertype[-index, ])\n",
    "ind_dep <- ncol(covertype)"
   ]
  },
  {
   "cell_type": "code",
   "execution_count": 30,
   "metadata": {
    "vscode": {
     "languageId": "r"
    }
   },
   "outputs": [
    {
     "name": "stderr",
     "output_type": "stream",
     "text": [
      "BBVI-JS+: Iteration 100 | lambda: 0.0044 | ELBO: -2328803.28 | ELBO Change: 0\n",
      "\n",
      "BBVI-JS+: Iteration 200 | lambda: 0.0029 | ELBO: -2191548.41 | ELBO Change: 0\n",
      "\n",
      "BBVI-JS+: Iteration 300 | lambda: 0.0035 | ELBO: -2116106.62 | ELBO Change: 0\n",
      "\n",
      "BBVI-JS+: Iteration 400 | lambda: 0.0023 | ELBO: -2281071.99 | ELBO Change: 0\n",
      "\n",
      "BBVI-JS+: Iteration 500 | lambda: 0.002 | ELBO: -2314611.12 | ELBO Change: 0\n",
      "\n",
      "BBVI-JS+: Iteration 600 | lambda: 0.0021 | ELBO: -2270067.12 | ELBO Change: 0\n",
      "\n",
      "BBVI-JS+: Iteration 700 | lambda: 0.0018 | ELBO: -2373673.5 | ELBO Change: 0\n",
      "\n",
      "BBVI-JS+: Iteration 800 | lambda: 0.002 | ELBO: -2207064.58 | ELBO Change: 0\n",
      "\n",
      "BBVI-JS+: Iteration 900 | lambda: 0.0019 | ELBO: -2341831.99 | ELBO Change: 0\n",
      "\n",
      "BBVI-JS+: Iteration 1000 | lambda: 0.0015 | ELBO: -2241135.47 | ELBO Change: 0\n",
      "\n",
      "Algorithm did not converge after 1000 steps. Results may not be reliable.\n",
      "\n",
      "BBVI-Naive: Iteration 100 | lambda: 0.0024 | ELBO: -2301304.46 | ELBO Change: 0\n",
      "\n",
      "BBVI-Naive: Iteration 200 | lambda: 0.0015 | ELBO: -2256823.53 | ELBO Change: 0\n",
      "\n",
      "Algorithm converged after 226 iterations.\n",
      "\n",
      "YOASOVI-Naive: Iteration 100 | ELBO: -320200.18\n",
      "\n",
      "Algorithm converged after 104 iterations.\n",
      "\n"
     ]
    }
   ],
   "source": [
    "covertype.bbvi <- bbvi_logitreg(categories = covertype.train[,ind_dep], X = scale(covertype.train[,1:10]), mc_size = 100, method = \"JS+\", learn_rate = rate_adagrad(1e-1), max_iter = 1000, converge = 1e-3, verbose = TRUE)\n",
    "covertype.qmcvi <- qmcvi_logitreg(categories = covertype.train[,ind_dep], X = scale(covertype.train[,1:10]), mc_size = 10, learn_rate = rate_adagrad(1e-1), max_iter = 1000, converge = 1e-3, verbose = TRUE)\n",
    "covertype.yoasovi <- yoasovi_logitreg(categories = covertype.train[,ind_dep], X = scale(covertype.train[,1:10]), learn_rate = rate_adagrad(1e-1), max_iter = 1000, patience = 50, verbose = TRUE)"
   ]
  },
  {
   "cell_type": "code",
   "execution_count": 31,
   "metadata": {
    "vscode": {
     "languageId": "r"
    }
   },
   "outputs": [],
   "source": [
    "covertype.bbvi.acc <- logitreg_accuracy(covertype.bbvi, newdata = list(categories=covertype.test[,ind_dep], X=scale(covertype.test[,1:10])))\n",
    "covertype.qmcvi.acc <- logitreg_accuracy(covertype.qmcvi, newdata = list(categories=covertype.test[,ind_dep], X=scale(covertype.test[,1:10])))\n",
    "covertype.yoasovi.acc <- logitreg_accuracy(covertype.yoasovi, newdata = list(categories=covertype.test[,ind_dep], X=scale(covertype.test[,1:10])))"
   ]
  },
  {
   "cell_type": "code",
   "execution_count": 32,
   "metadata": {
    "vscode": {
     "languageId": "r"
    }
   },
   "outputs": [
    {
     "data": {
      "text/html": [
       "<table class=\"dataframe\">\n",
       "<caption>A matrix: 3 x 2 of type dbl</caption>\n",
       "<thead>\n",
       "\t<tr><th scope=col>mean</th><th scope=col>sd</th></tr>\n",
       "</thead>\n",
       "<tbody>\n",
       "\t<tr><td>52.18</td><td>6.66</td></tr>\n",
       "\t<tr><td>52.18</td><td>6.68</td></tr>\n",
       "\t<tr><td>57.74</td><td>6.45</td></tr>\n",
       "</tbody>\n",
       "</table>\n"
      ],
      "text/latex": [
       "A matrix: 3 x 2 of type dbl\n",
       "\\begin{tabular}{ll}\n",
       " mean & sd\\\\\n",
       "\\hline\n",
       "\t 52.18 & 6.66\\\\\n",
       "\t 52.18 & 6.68\\\\\n",
       "\t 57.74 & 6.45\\\\\n",
       "\\end{tabular}\n"
      ],
      "text/markdown": [
       "\n",
       "A matrix: 3 x 2 of type dbl\n",
       "\n",
       "| mean | sd |\n",
       "|---|---|\n",
       "| 52.18 | 6.66 |\n",
       "| 52.18 | 6.68 |\n",
       "| 57.74 | 6.45 |\n",
       "\n"
      ],
      "text/plain": [
       "     mean  sd  \n",
       "[1,] 52.18 6.66\n",
       "[2,] 52.18 6.68\n",
       "[3,] 57.74 6.45"
      ]
     },
     "metadata": {},
     "output_type": "display_data"
    }
   ],
   "source": [
    "covertype_accuracy <- round(100 * rbind(\n",
    "    covertype.bbvi.acc$auc_simulations,\n",
    "    covertype.qmcvi.acc$auc_simulations,\n",
    "    covertype.yoasovi.acc$auc_simulations\n",
    "),2)\n",
    "\n",
    "covertype_accuracy"
   ]
  },
  {
   "cell_type": "markdown",
   "metadata": {},
   "source": [
    "### Fit Performance"
   ]
  },
  {
   "cell_type": "code",
   "execution_count": 33,
   "metadata": {
    "vscode": {
     "languageId": "r"
    }
   },
   "outputs": [
    {
     "name": "stderr",
     "output_type": "stream",
     "text": [
      "BBVI-JS+: Iteration 100 | lambda: 0.0041 | ELBO: -2181530.38 | ELBO Change: 0\n",
      "\n",
      "BBVI-JS+: Iteration 200 | lambda: 0.0028 | ELBO: -2266908.02 | ELBO Change: 0\n",
      "\n",
      "BBVI-JS+: Iteration 300 | lambda: 0.0028 | ELBO: -2322004.08 | ELBO Change: 0\n",
      "\n",
      "BBVI-JS+: Iteration 400 | lambda: 0.0025 | ELBO: -2347581.93 | ELBO Change: 0\n",
      "\n",
      "BBVI-JS+: Iteration 500 | lambda: 0.002 | ELBO: -2279457.54 | ELBO Change: 0\n",
      "\n",
      "BBVI-JS+: Iteration 600 | lambda: 0.0018 | ELBO: -2171379.06 | ELBO Change: 0\n",
      "\n",
      "BBVI-JS+: Iteration 700 | lambda: 0.0019 | ELBO: -2237103.65 | ELBO Change: 0\n",
      "\n",
      "BBVI-JS+: Iteration 800 | lambda: 0.0017 | ELBO: -2188420.49 | ELBO Change: 0\n",
      "\n",
      "BBVI-JS+: Iteration 900 | lambda: 0.0014 | ELBO: -2339342.26 | ELBO Change: 0\n",
      "\n",
      "Algorithm converged after 977 iterations.\n",
      "\n",
      "BBVI-Naive: Iteration 100 | lambda: 0.0022 | ELBO: -2340007.95 | ELBO Change: 0\n",
      "\n",
      "Algorithm converged after 199 iterations.\n",
      "\n",
      "Algorithm converged after 60 iterations.\n",
      "\n",
      "BBVI-JS+: Iteration 100 | lambda: 0.0033 | ELBO: -2173963.67 | ELBO Change: 0\n",
      "\n",
      "BBVI-JS+: Iteration 200 | lambda: 0.0032 | ELBO: -2209849.73 | ELBO Change: 0\n",
      "\n",
      "BBVI-JS+: Iteration 300 | lambda: 0.0023 | ELBO: -2228426.41 | ELBO Change: 0\n",
      "\n",
      "BBVI-JS+: Iteration 400 | lambda: 0.002 | ELBO: -2255047.91 | ELBO Change: 0\n",
      "\n",
      "BBVI-JS+: Iteration 500 | lambda: 0.0016 | ELBO: -2317019.89 | ELBO Change: 0\n",
      "\n",
      "BBVI-JS+: Iteration 600 | lambda: 0.002 | ELBO: -2297039.14 | ELBO Change: 0\n",
      "\n",
      "BBVI-JS+: Iteration 700 | lambda: 0.0019 | ELBO: -2309894.39 | ELBO Change: 0\n",
      "\n",
      "BBVI-JS+: Iteration 800 | lambda: 0.0018 | ELBO: -2304515.5 | ELBO Change: 0\n",
      "\n",
      "BBVI-JS+: Iteration 900 | lambda: 0.002 | ELBO: -2407802.57 | ELBO Change: 0\n",
      "\n",
      "Algorithm converged after 923 iterations.\n",
      "\n",
      "BBVI-Naive: Iteration 100 | lambda: 0.0026 | ELBO: -2918458.38 | ELBO Change: 0\n",
      "\n",
      "BBVI-Naive: Iteration 200 | lambda: 0.0011 | ELBO: -2052658.42 | ELBO Change: 0\n",
      "\n",
      "Algorithm converged after 221 iterations.\n",
      "\n",
      "Algorithm converged after 60 iterations.\n",
      "\n",
      "BBVI-JS+: Iteration 100 | lambda: 0.0045 | ELBO: -2378636.54 | ELBO Change: 0\n",
      "\n",
      "BBVI-JS+: Iteration 200 | lambda: 0.0044 | ELBO: -2283280.62 | ELBO Change: 0\n",
      "\n",
      "BBVI-JS+: Iteration 300 | lambda: 0.0019 | ELBO: -2335383.06 | ELBO Change: 0\n",
      "\n",
      "BBVI-JS+: Iteration 400 | lambda: 0.0026 | ELBO: -2347601.1 | ELBO Change: 0\n",
      "\n",
      "BBVI-JS+: Iteration 500 | lambda: 0.0018 | ELBO: -2267466.84 | ELBO Change: 0\n",
      "\n",
      "BBVI-JS+: Iteration 600 | lambda: 0.0017 | ELBO: -2156595.86 | ELBO Change: 0\n",
      "\n",
      "BBVI-JS+: Iteration 700 | lambda: 0.002 | ELBO: -2271085.79 | ELBO Change: 0\n",
      "\n",
      "BBVI-JS+: Iteration 800 | lambda: 0.0014 | ELBO: -2283260.18 | ELBO Change: 0\n",
      "\n",
      "BBVI-JS+: Iteration 900 | lambda: 0.0017 | ELBO: -2238849.68 | ELBO Change: 0\n",
      "\n",
      "Algorithm converged after 916 iterations.\n",
      "\n",
      "BBVI-Naive: Iteration 100 | lambda: 0.0024 | ELBO: -2107536.02 | ELBO Change: 0\n",
      "\n",
      "Algorithm converged after 181 iterations.\n",
      "\n",
      "Algorithm converged after 58 iterations.\n",
      "\n",
      "BBVI-JS+: Iteration 100 | lambda: 0.0049 | ELBO: -2207109.04 | ELBO Change: 0\n",
      "\n",
      "BBVI-JS+: Iteration 200 | lambda: 0.0029 | ELBO: -2342102.15 | ELBO Change: 0\n",
      "\n",
      "BBVI-JS+: Iteration 300 | lambda: 0.003 | ELBO: -2276137.5 | ELBO Change: 0\n",
      "\n",
      "BBVI-JS+: Iteration 400 | lambda: 0.0023 | ELBO: -2236955.92 | ELBO Change: 0\n",
      "\n",
      "BBVI-JS+: Iteration 500 | lambda: 0.0024 | ELBO: -2248763.93 | ELBO Change: 0\n",
      "\n",
      "BBVI-JS+: Iteration 600 | lambda: 0.0019 | ELBO: -2317871.31 | ELBO Change: 0\n",
      "\n",
      "BBVI-JS+: Iteration 700 | lambda: 0.0022 | ELBO: -2283954.94 | ELBO Change: 0\n",
      "\n",
      "BBVI-JS+: Iteration 800 | lambda: 0.0022 | ELBO: -2273442.41 | ELBO Change: 0\n",
      "\n",
      "BBVI-JS+: Iteration 900 | lambda: 0.0016 | ELBO: -2237182.14 | ELBO Change: 0\n",
      "\n",
      "Algorithm converged after 940 iterations.\n",
      "\n",
      "BBVI-Naive: Iteration 100 | lambda: 0.0019 | ELBO: -1799983.08 | ELBO Change: 0\n",
      "\n",
      "BBVI-Naive: Iteration 200 | lambda: 0.0015 | ELBO: -2304041.03 | ELBO Change: 0\n",
      "\n",
      "Algorithm converged after 229 iterations.\n",
      "\n",
      "Algorithm converged after 99 iterations.\n",
      "\n",
      "BBVI-JS+: Iteration 100 | lambda: 0.0048 | ELBO: -2219771.38 | ELBO Change: 0\n",
      "\n",
      "BBVI-JS+: Iteration 200 | lambda: 0.0038 | ELBO: -2226608.22 | ELBO Change: 0\n",
      "\n",
      "BBVI-JS+: Iteration 300 | lambda: 0.0036 | ELBO: -2240708.35 | ELBO Change: 0\n",
      "\n",
      "BBVI-JS+: Iteration 400 | lambda: 0.0038 | ELBO: -2218555.53 | ELBO Change: 0\n",
      "\n",
      "BBVI-JS+: Iteration 500 | lambda: 0.0019 | ELBO: -2091123.88 | ELBO Change: 0\n",
      "\n",
      "BBVI-JS+: Iteration 600 | lambda: 0.0017 | ELBO: -2243572.85 | ELBO Change: 0\n",
      "\n",
      "BBVI-JS+: Iteration 700 | lambda: 0.0015 | ELBO: -2299854.92 | ELBO Change: 0\n",
      "\n",
      "BBVI-JS+: Iteration 800 | lambda: 0.0022 | ELBO: -2277618.74 | ELBO Change: 0\n",
      "\n",
      "BBVI-JS+: Iteration 900 | lambda: 0.0015 | ELBO: -2221130.77 | ELBO Change: 0\n",
      "\n",
      "BBVI-JS+: Iteration 1000 | lambda: 0.0013 | ELBO: -2273659.58 | ELBO Change: 0\n",
      "\n",
      "Algorithm did not converge after 1000 steps. Results may not be reliable.\n",
      "\n",
      "BBVI-Naive: Iteration 100 | lambda: 0.0027 | ELBO: -2541187.79 | ELBO Change: 0\n",
      "\n",
      "Algorithm converged after 198 iterations.\n",
      "\n",
      "YOASOVI-Naive: Iteration 100 | ELBO: -433117.51\n",
      "\n",
      "Algorithm converged after 115 iterations.\n",
      "\n",
      "BBVI-JS+: Iteration 100 | lambda: 0.0043 | ELBO: -2278066.93 | ELBO Change: 0\n",
      "\n",
      "BBVI-JS+: Iteration 200 | lambda: 0.0036 | ELBO: -2350065.13 | ELBO Change: 0\n",
      "\n",
      "BBVI-JS+: Iteration 300 | lambda: 0.0031 | ELBO: -2244394.08 | ELBO Change: 0\n",
      "\n",
      "BBVI-JS+: Iteration 400 | lambda: 0.0021 | ELBO: -2315830.52 | ELBO Change: 0\n",
      "\n",
      "BBVI-JS+: Iteration 500 | lambda: 0.0018 | ELBO: -2073247.05 | ELBO Change: 0\n",
      "\n",
      "BBVI-JS+: Iteration 600 | lambda: 0.002 | ELBO: -2205998.92 | ELBO Change: 0\n",
      "\n",
      "BBVI-JS+: Iteration 700 | lambda: 0.0017 | ELBO: -2351146.58 | ELBO Change: 0\n",
      "\n",
      "BBVI-JS+: Iteration 800 | lambda: 0.0022 | ELBO: -2353610.87 | ELBO Change: 0\n",
      "\n",
      "BBVI-JS+: Iteration 900 | lambda: 0.002 | ELBO: -2305176.32 | ELBO Change: 0\n",
      "\n",
      "BBVI-JS+: Iteration 1000 | lambda: 0.0019 | ELBO: -2376367.87 | ELBO Change: 0\n",
      "\n",
      "Algorithm did not converge after 1000 steps. Results may not be reliable.\n",
      "\n",
      "BBVI-Naive: Iteration 100 | lambda: 0.002 | ELBO: -2443191.65 | ELBO Change: 0\n",
      "\n",
      "BBVI-Naive: Iteration 200 | lambda: 0.0016 | ELBO: -2200973.65 | ELBO Change: 0\n",
      "\n",
      "Algorithm converged after 219 iterations.\n",
      "\n",
      "YOASOVI-Naive: Iteration 100 | ELBO: -374057.99\n",
      "\n",
      "Algorithm converged after 127 iterations.\n",
      "\n",
      "BBVI-JS+: Iteration 100 | lambda: 0.0051 | ELBO: -2393506.4 | ELBO Change: 0\n",
      "\n",
      "BBVI-JS+: Iteration 200 | lambda: 0.0037 | ELBO: -2202036.87 | ELBO Change: 0\n",
      "\n",
      "BBVI-JS+: Iteration 300 | lambda: 0.0032 | ELBO: -2250883.14 | ELBO Change: 0\n",
      "\n",
      "BBVI-JS+: Iteration 400 | lambda: 0.0027 | ELBO: -2468873.1 | ELBO Change: 0\n",
      "\n",
      "BBVI-JS+: Iteration 500 | lambda: 0.0017 | ELBO: -2147101.94 | ELBO Change: 0\n",
      "\n",
      "BBVI-JS+: Iteration 600 | lambda: 0.0027 | ELBO: -2355307.94 | ELBO Change: 0\n",
      "\n",
      "BBVI-JS+: Iteration 700 | lambda: 0.0018 | ELBO: -2217208.83 | ELBO Change: 0\n",
      "\n",
      "BBVI-JS+: Iteration 800 | lambda: 0.0017 | ELBO: -2210692.69 | ELBO Change: 0\n",
      "\n",
      "BBVI-JS+: Iteration 900 | lambda: 0.0013 | ELBO: -2164699.1 | ELBO Change: 0\n",
      "\n",
      "Algorithm converged after 919 iterations.\n",
      "\n",
      "BBVI-Naive: Iteration 100 | lambda: 0.0017 | ELBO: -1954969.94 | ELBO Change: 0\n",
      "\n",
      "BBVI-Naive: Iteration 200 | lambda: 0.0017 | ELBO: -2092626.75 | ELBO Change: 0\n",
      "\n",
      "Algorithm converged after 202 iterations.\n",
      "\n",
      "YOASOVI-Naive: Iteration 100 | ELBO: -294139.17\n",
      "\n",
      "Algorithm converged after 113 iterations.\n",
      "\n",
      "BBVI-JS+: Iteration 100 | lambda: 0.005 | ELBO: -2235669.59 | ELBO Change: 0\n",
      "\n",
      "BBVI-JS+: Iteration 200 | lambda: 0.0033 | ELBO: -2227746.85 | ELBO Change: 0\n",
      "\n",
      "BBVI-JS+: Iteration 300 | lambda: 0.0026 | ELBO: -2260614.68 | ELBO Change: 0\n",
      "\n",
      "BBVI-JS+: Iteration 400 | lambda: 0.0026 | ELBO: -2278625.1 | ELBO Change: 0\n",
      "\n",
      "BBVI-JS+: Iteration 500 | lambda: 0.0019 | ELBO: -2243943.38 | ELBO Change: 0\n",
      "\n",
      "BBVI-JS+: Iteration 600 | lambda: 0.002 | ELBO: -2288758.66 | ELBO Change: 0\n",
      "\n",
      "BBVI-JS+: Iteration 700 | lambda: 0.0017 | ELBO: -2311421.92 | ELBO Change: 0\n",
      "\n",
      "BBVI-JS+: Iteration 800 | lambda: 0.0024 | ELBO: -2339201.82 | ELBO Change: 0\n",
      "\n",
      "BBVI-JS+: Iteration 900 | lambda: 0.0016 | ELBO: -2258124.54 | ELBO Change: 0\n",
      "\n",
      "BBVI-JS+: Iteration 1000 | lambda: 0.0018 | ELBO: -2143531.12 | ELBO Change: 0\n",
      "\n",
      "Algorithm did not converge after 1000 steps. Results may not be reliable.\n",
      "\n",
      "BBVI-Naive: Iteration 100 | lambda: 0.0028 | ELBO: -2261902.38 | ELBO Change: 0\n",
      "\n",
      "BBVI-Naive: Iteration 200 | lambda: 0.0013 | ELBO: -2256255.01 | ELBO Change: 0\n",
      "\n",
      "Algorithm converged after 215 iterations.\n",
      "\n",
      "YOASOVI-Naive: Iteration 100 | ELBO: -333397.93\n",
      "\n",
      "Algorithm converged after 119 iterations.\n",
      "\n",
      "BBVI-JS+: Iteration 100 | lambda: 0.0038 | ELBO: -2303297.14 | ELBO Change: 0\n",
      "\n",
      "BBVI-JS+: Iteration 200 | lambda: 0.0042 | ELBO: -2314481.56 | ELBO Change: 0\n",
      "\n",
      "BBVI-JS+: Iteration 300 | lambda: 0.0037 | ELBO: -2167677.39 | ELBO Change: 0\n",
      "\n",
      "BBVI-JS+: Iteration 400 | lambda: 0.0028 | ELBO: -2312064.28 | ELBO Change: 0\n",
      "\n",
      "BBVI-JS+: Iteration 500 | lambda: 0.002 | ELBO: -2262281.28 | ELBO Change: 0\n",
      "\n",
      "BBVI-JS+: Iteration 600 | lambda: 0.0015 | ELBO: -2280774.7 | ELBO Change: 0\n",
      "\n",
      "BBVI-JS+: Iteration 700 | lambda: 0.0016 | ELBO: -2308705.95 | ELBO Change: 0\n",
      "\n",
      "BBVI-JS+: Iteration 800 | lambda: 0.0023 | ELBO: -2240405.85 | ELBO Change: 0\n",
      "\n",
      "Algorithm converged after 889 iterations.\n",
      "\n",
      "BBVI-Naive: Iteration 100 | lambda: 0.003 | ELBO: -2062136.4 | ELBO Change: 0\n",
      "\n",
      "Algorithm converged after 193 iterations.\n",
      "\n",
      "YOASOVI-Naive: Iteration 100 | ELBO: -368717.69\n",
      "\n",
      "Algorithm converged after 199 iterations.\n",
      "\n",
      "BBVI-JS+: Iteration 100 | lambda: 0.0041 | ELBO: -2427242.87 | ELBO Change: 0\n",
      "\n",
      "BBVI-JS+: Iteration 200 | lambda: 0.0037 | ELBO: -2470888.77 | ELBO Change: 0\n",
      "\n",
      "BBVI-JS+: Iteration 300 | lambda: 0.0039 | ELBO: -2212675.33 | ELBO Change: 0\n",
      "\n",
      "BBVI-JS+: Iteration 400 | lambda: 0.0035 | ELBO: -2242620.24 | ELBO Change: 0\n",
      "\n",
      "BBVI-JS+: Iteration 500 | lambda: 0.0021 | ELBO: -2302239.65 | ELBO Change: 0\n",
      "\n",
      "BBVI-JS+: Iteration 600 | lambda: 0.0018 | ELBO: -2299583.24 | ELBO Change: 0\n",
      "\n",
      "BBVI-JS+: Iteration 700 | lambda: 0.0016 | ELBO: -2376630.95 | ELBO Change: 0\n",
      "\n",
      "BBVI-JS+: Iteration 800 | lambda: 0.0021 | ELBO: -2255833.93 | ELBO Change: 0\n",
      "\n",
      "BBVI-JS+: Iteration 900 | lambda: 0.0013 | ELBO: -2278563.14 | ELBO Change: 0\n",
      "\n",
      "BBVI-JS+: Iteration 1000 | lambda: 0.0017 | ELBO: -2217234.64 | ELBO Change: 0\n",
      "\n",
      "Algorithm did not converge after 1000 steps. Results may not be reliable.\n",
      "\n",
      "BBVI-Naive: Iteration 100 | lambda: 0.0027 | ELBO: -2168936.25 | ELBO Change: 0\n",
      "\n",
      "BBVI-Naive: Iteration 200 | lambda: 0.0017 | ELBO: -2478413.3 | ELBO Change: 0\n",
      "\n",
      "Algorithm converged after 207 iterations.\n",
      "\n",
      "Algorithm converged after 63 iterations.\n",
      "\n"
     ]
    },
    {
     "data": {
      "text/html": [
       "<table class=\"dataframe\">\n",
       "<caption>A tibble: 3 x 9</caption>\n",
       "<thead>\n",
       "\t<tr><th scope=col>Method</th><th scope=col>iterations_mn</th><th scope=col>iterations_sd</th><th scope=col>time_mn</th><th scope=col>time_sd</th><th scope=col>elbo_mn</th><th scope=col>elbo_sd</th><th scope=col>DIC_mn</th><th scope=col>DIC_sd</th></tr>\n",
       "\t<tr><th scope=col>&lt;chr&gt;</th><th scope=col>&lt;dbl&gt;</th><th scope=col>&lt;dbl&gt;</th><th scope=col>&lt;drtn&gt;</th><th scope=col>&lt;dbl&gt;</th><th scope=col>&lt;dbl&gt;</th><th scope=col>&lt;dbl&gt;</th><th scope=col>&lt;dbl&gt;</th><th scope=col>&lt;dbl&gt;</th></tr>\n",
       "</thead>\n",
       "<tbody>\n",
       "\t<tr><td>BBVI   </td><td>956.4</td><td>43.44</td><td>11013.19 secs</td><td>5809.21</td><td>-2265243.7</td><td> 71403.32</td><td>4530468</td><td>142805.6</td></tr>\n",
       "\t<tr><td>QMCVI  </td><td>206.4</td><td>14.63</td><td>  222.21 secs</td><td>  72.92</td><td>-1787187.3</td><td>188529.91</td><td>3574402</td><td>377060.3</td></tr>\n",
       "\t<tr><td>YOASOVI</td><td>101.3</td><td>44.22</td><td>    4.84 secs</td><td>   3.68</td><td> -363684.2</td><td> 42045.17</td><td> 727416</td><td> 84093.7</td></tr>\n",
       "</tbody>\n",
       "</table>\n"
      ],
      "text/latex": [
       "A tibble: 3 x 9\n",
       "\\begin{tabular}{lllllllll}\n",
       " Method & iterations\\_mn & iterations\\_sd & time\\_mn & time\\_sd & elbo\\_mn & elbo\\_sd & DIC\\_mn & DIC\\_sd\\\\\n",
       " <chr> & <dbl> & <dbl> & <drtn> & <dbl> & <dbl> & <dbl> & <dbl> & <dbl>\\\\\n",
       "\\hline\n",
       "\t BBVI    & 956.4 & 43.44 & 11013.19 secs & 5809.21 & -2265243.7 &  71403.32 & 4530468 & 142805.6\\\\\n",
       "\t QMCVI   & 206.4 & 14.63 &   222.21 secs &   72.92 & -1787187.3 & 188529.91 & 3574402 & 377060.3\\\\\n",
       "\t YOASOVI & 101.3 & 44.22 &     4.84 secs &    3.68 &  -363684.2 &  42045.17 &  727416 &  84093.7\\\\\n",
       "\\end{tabular}\n"
      ],
      "text/markdown": [
       "\n",
       "A tibble: 3 x 9\n",
       "\n",
       "| Method &lt;chr&gt; | iterations_mn &lt;dbl&gt; | iterations_sd &lt;dbl&gt; | time_mn &lt;drtn&gt; | time_sd &lt;dbl&gt; | elbo_mn &lt;dbl&gt; | elbo_sd &lt;dbl&gt; | DIC_mn &lt;dbl&gt; | DIC_sd &lt;dbl&gt; |\n",
       "|---|---|---|---|---|---|---|---|---|\n",
       "| BBVI    | 956.4 | 43.44 | 11013.19 secs | 5809.21 | -2265243.7 |  71403.32 | 4530468 | 142805.6 |\n",
       "| QMCVI   | 206.4 | 14.63 |   222.21 secs |   72.92 | -1787187.3 | 188529.91 | 3574402 | 377060.3 |\n",
       "| YOASOVI | 101.3 | 44.22 |     4.84 secs |    3.68 |  -363684.2 |  42045.17 |  727416 |  84093.7 |\n",
       "\n"
      ],
      "text/plain": [
       "  Method  iterations_mn iterations_sd time_mn       time_sd elbo_mn   \n",
       "1 BBVI    956.4         43.44         11013.19 secs 5809.21 -2265243.7\n",
       "2 QMCVI   206.4         14.63           222.21 secs   72.92 -1787187.3\n",
       "3 YOASOVI 101.3         44.22             4.84 secs    3.68  -363684.2\n",
       "  elbo_sd   DIC_mn  DIC_sd  \n",
       "1  71403.32 4530468 142805.6\n",
       "2 188529.91 3574402 377060.3\n",
       "3  42045.17  727416  84093.7"
      ]
     },
     "metadata": {},
     "output_type": "display_data"
    }
   ],
   "source": [
    "covertype_performances <- foreach(seed = 0:9) %do%{\n",
    "    covertype.bbvi <- bbvi_logitreg(categories = covertype.train[,ind_dep], X = scale(covertype.train[,1:10]), mc_size = 100, method = \"JS+\", learn_rate = rate_adagrad(1e-1), max_iter = 1000, converge = 1e-3, seed = seed, verbose = TRUE)\n",
    "    covertype.qmcvi <- qmcvi_logitreg(categories = covertype.train[,ind_dep], X = scale(covertype.train[,1:10]), mc_size = 10, learn_rate = rate_adagrad(1e-1), max_iter = 1000, converge = 1e-3, seed = seed, verbose = TRUE)\n",
    "    covertype.yoasovi <- yoasovi_logitreg(categories = covertype.train[,ind_dep], X = scale(covertype.train[,1:10]), learn_rate = rate_adagrad(1e-1), max_iter = 1000, patience = 50, seed = seed, verbose = TRUE)\n",
    "\n",
    "    return(rbind(\n",
    "        cbind(Method = \"BBVI\", logitreg_summary(covertype.bbvi)),\n",
    "        cbind(Method = \"QMCVI\", logitreg_summary(covertype.qmcvi)),\n",
    "        cbind(Method = \"YOASOVI\", logitreg_summary(covertype.yoasovi))\n",
    "    ))\n",
    "}\n",
    "\n",
    "covertype_performances <- do.call('rbind', covertype_performances)\n",
    "covertype_performances <- covertype_performances %>%\n",
    "    group_by(Method) %>%\n",
    "    summarise(iterations_mn = round(mean(iter),2), iterations_sd = round(sd(iter),2), time_mn = round(mean(elapsed),2), time_sd = round(sd(elapsed),2),\n",
    "                elbo_mn = round(mean(elbo),2), elbo_sd = round(sd(elbo),2), DIC_mn = round(mean(DIC),2), DIC_sd = round(sd(DIC),2))\n",
    "\n",
    "covertype_performances"
   ]
  },
  {
   "cell_type": "code",
   "execution_count": null,
   "metadata": {
    "vscode": {
     "languageId": "r"
    }
   },
   "outputs": [],
   "source": [
    "saveRDS(list(\"performance\"=covertype_performances, \"accuracy\"=covertype_accuracy), \n",
    "        \"Outputs/logit_covertype.RDS\")\n",
    "\n",
    "covertype_performances <- readRDS(\"Outputs/logit_covertype.RDS\")$covertype_performances\n",
    "covertype_accuracy <- readRDS(\"Outputs/logit_covertype.RDS\")$covertype_accuracy"
   ]
  },
  {
   "cell_type": "markdown",
   "metadata": {},
   "source": [
    "### Kable"
   ]
  },
  {
   "cell_type": "code",
   "execution_count": 35,
   "metadata": {
    "vscode": {
     "languageId": "r"
    }
   },
   "outputs": [
    {
     "name": "stdout",
     "output_type": "stream",
     "text": [
      "\\begin{table}\n",
      "\\centering\\begingroup\\fontsize{9}{11}\\selectfont\n",
      "\n",
      "\\begin{tabular}{lllrrrrrrr}\n",
      "\\toprule\n",
      "\\multicolumn{1}{c}{} & \\multicolumn{1}{c}{} & \\multicolumn{2}{c}{Time (secs)} & \\multicolumn{2}{c}{ELBO} & \\multicolumn{2}{c}{DIC} & \\multicolumn{2}{c}{AUC} \\\\\n",
      "\\cmidrule(l{3pt}r{3pt}){3-4} \\cmidrule(l{3pt}r{3pt}){5-6} \\cmidrule(l{3pt}r{3pt}){7-8} \\cmidrule(l{3pt}r{3pt}){9-10}\n",
      "Data & Method & Mean & SD & Mean & SD & Mean & SD & Mean & SD\\\\\n",
      "\\midrule\n",
      "Wine & BBVI & 3.55 secs & 1.56 & -95.59 & 21.34 & 255.05 & 42.73 & 84.71 & 14.92\\\\\n",
      "Wine & QMCVI & 2.16 secs & 0.22 & -332.66 & 59.91 & 700.68 & 117.42 & 78.54 & 16.84\\\\\n",
      "Wine & YOASOVI & 0.04 secs & 0.02 & -5.44 & 1.77 & 72.76 & 4.78 & 80.78 & 16.66\\\\\n",
      "Rice & BBVI & 6.17 secs & 2.86 & -3356.71 & 437.19 & 6750.66 & 874.70 & 84.92 & 12.95\\\\\n",
      "Rice & QMCVI & 2.52 secs & 0.33 & -11173.35 & 1597.66 & 22367.37 & 3194.30 & 74.71 & 15.35\\\\\n",
      "\\addlinespace\n",
      "Rice & YOASOVI & 0.09 secs & 0.05 & -645.05 & 32.66 & 1323.48 & 65.30 & 81.01 & 14.40\\\\\n",
      "Diabetes & BBVI & 109.94 secs & 36.59 & -3552.64 & 76.61 & 7090.09 & 152.86 & 60.28 & 8.55\\\\\n",
      "Diabetes & QMCVI & 4.66 secs & 2.15 & -3319.70 & 274.17 & 6660.00 & 548.62 & 60.36 & 8.58\\\\\n",
      "Diabetes & YOASOVI & 0.08 secs & 0.06 & -491.62 & 61.88 & 1020.36 & 123.55 & 65.31 & 9.73\\\\\n",
      "Covertype & BBVI & 11013.19 secs & 5809.21 & -2265243.68 & 71403.32 & 4530467.75 & 142805.57 & 52.18 & 6.66\\\\\n",
      "\\addlinespace\n",
      "Covertype & QMCVI & 222.21 secs & 72.92 & -1787187.28 & 188529.91 & 3574401.64 & 377060.30 & 52.18 & 6.68\\\\\n",
      "Covertype & YOASOVI & 4.84 secs & 3.68 & -363684.22 & 42045.17 & 727415.96 & 84093.70 & 57.74 & 6.45\\\\\n",
      "\\bottomrule\n",
      "\\end{tabular}\n",
      "\\endgroup{}\n",
      "\\end{table}\n"
     ]
    }
   ],
   "source": [
    "all_performances <- rbind(\n",
    "    cbind(Dataset = \"Wine\", wine_performances, wine_accuracy),\n",
    "    cbind(Dataset = \"Rice\", rice_performances, rice_accuracy),\n",
    "    cbind(Dataset = \"Diabetes\", diabetes_performances, diabetes_accuracy),\n",
    "    cbind(Dataset = \"Covertype\", covertype_performances, covertype_accuracy)\n",
    ")\n",
    "\n",
    "all_performances %>%\n",
    "    select(Dataset, Method, time_mn, time_sd, elbo_mn, elbo_sd, DIC_mn, DIC_sd, mean, sd) %>%\n",
    "    kable('latex', booktabs = TRUE, col.names = c(\"Data\",\"Method\",\"Mean\",\"SD\",\"Mean\",\"SD\",\"Mean\",\"SD\",\"Mean\",\"SD\")) %>%\n",
    "    add_header_above(c(\"\", \"\", \"Time (secs)\" = 2, \"ELBO\" = 2, \"DIC\" = 2, \"AUC\" = 2)) %>%\n",
    "    kable_styling(latex_options=c(\"repeat_header\"), font_size  = 9) %>%\n",
    "    print()"
   ]
  }
 ],
 "metadata": {
  "kernelspec": {
   "display_name": "R",
   "language": "R",
   "name": "ir"
  },
  "language_info": {
   "codemirror_mode": "r",
   "file_extension": ".r",
   "mimetype": "text/x-r-source",
   "name": "R",
   "pygments_lexer": "r",
   "version": "4.2.3"
  }
 },
 "nbformat": 4,
 "nbformat_minor": 2
}
