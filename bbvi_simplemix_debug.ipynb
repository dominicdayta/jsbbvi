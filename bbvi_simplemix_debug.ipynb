{
 "cells": [
  {
   "cell_type": "markdown",
   "metadata": {},
   "source": [
    "# Debugging the BBVI Simple Mix Code\n",
    "\n",
    "The goal of the following notebook is to test out the basic functionalities in the `bbvi_simplemix.R` code file to ensure that the analysis is proceeding correctly."
   ]
  },
  {
   "cell_type": "code",
   "execution_count": 39,
   "metadata": {
    "vscode": {
     "languageId": "r"
    }
   },
   "outputs": [],
   "source": [
    "library(dplyr)\n",
    "library(ggplot2)\n",
    "\n",
    "source(\"bbvi_simplemix.R\")"
   ]
  },
  {
   "cell_type": "code",
   "execution_count": 27,
   "metadata": {
    "vscode": {
     "languageId": "r"
    }
   },
   "outputs": [
    {
     "data": {
      "text/html": [
       "<table class=\"dataframe\">\n",
       "<caption>A matrix: 1 x 1 of type dbl</caption>\n",
       "<tbody>\n",
       "\t<tr><td>-4.520618</td></tr>\n",
       "</tbody>\n",
       "</table>\n"
      ],
      "text/latex": [
       "A matrix: 1 x 1 of type dbl\n",
       "\\begin{tabular}{l}\n",
       "\t -4.520618\\\\\n",
       "\\end{tabular}\n"
      ],
      "text/markdown": [
       "\n",
       "A matrix: 1 x 1 of type dbl\n",
       "\n",
       "| -4.520618 |\n",
       "\n"
      ],
      "text/plain": [
       "     [,1]     \n",
       "[1,] -4.520618"
      ]
     },
     "metadata": {},
     "output_type": "display_data"
    }
   ],
   "source": [
    "y = c(-1, 1)\n",
    "\n",
    "mu = c(0.69856402, 1.3638203)\n",
    "m = c(-0.5, 1)\n",
    "\n",
    "ssq = c(1, 2)\n",
    "\n",
    "phi = rbind(\n",
    "    c(0.9,0.1),\n",
    "    c(0.3,0.7)\n",
    ")\n",
    "z = rbind(\n",
    "    c(1,0),\n",
    "    c(0,1)\n",
    ")\n",
    "\n",
    "logp.all(y, z, mu, mu0 = 0)"
   ]
  },
  {
   "cell_type": "code",
   "execution_count": 4,
   "metadata": {
    "vscode": {
     "languageId": "r"
    }
   },
   "outputs": [
    {
     "data": {
      "text/html": [
       "<style>\n",
       ".list-inline {list-style: none; margin:0; padding: 0}\n",
       ".list-inline>li {display: inline-block}\n",
       ".list-inline>li:not(:last-child)::after {content: \"\\00b7\"; padding: 0 .5ex}\n",
       "</style>\n",
       "<ol class=list-inline><li>-1.96287706640935</li><li>-2.08787706640935</li></ol>\n"
      ],
      "text/latex": [
       "\\begin{enumerate*}\n",
       "\\item -1.96287706640935\n",
       "\\item -2.08787706640935\n",
       "\\end{enumerate*}\n"
      ],
      "text/markdown": [
       "1. -1.96287706640935\n",
       "2. -2.08787706640935\n",
       "\n",
       "\n"
      ],
      "text/plain": [
       "[1] -1.962877 -2.087877"
      ]
     },
     "metadata": {},
     "output_type": "display_data"
    }
   ],
   "source": [
    "logp.mu(y, z, mu)"
   ]
  },
  {
   "cell_type": "code",
   "execution_count": 5,
   "metadata": {
    "vscode": {
     "languageId": "r"
    }
   },
   "outputs": [
    {
     "data": {
      "text/html": [
       "<style>\n",
       ".list-inline {list-style: none; margin:0; padding: 0}\n",
       ".list-inline>li {display: inline-block}\n",
       ".list-inline>li:not(:last-child)::after {content: \"\\00b7\"; padding: 0 .5ex}\n",
       "</style>\n",
       "<ol class=list-inline><li>-0.125</li><li>-0.125</li></ol>\n"
      ],
      "text/latex": [
       "\\begin{enumerate*}\n",
       "\\item -0.125\n",
       "\\item -0.125\n",
       "\\end{enumerate*}\n"
      ],
      "text/markdown": [
       "1. -0.125\n",
       "2. -0.125\n",
       "\n",
       "\n"
      ],
      "text/plain": [
       "[1] -0.125 -0.125"
      ]
     },
     "metadata": {},
     "output_type": "display_data"
    }
   ],
   "source": [
    "logp.z(y, z, mu)"
   ]
  },
  {
   "cell_type": "code",
   "execution_count": 28,
   "metadata": {
    "vscode": {
     "languageId": "r"
    }
   },
   "outputs": [
    {
     "data": {
      "text/html": [
       "-3.39785527397818"
      ],
      "text/latex": [
       "-3.39785527397818"
      ],
      "text/markdown": [
       "-3.39785527397818"
      ],
      "text/plain": [
       "[1] -3.397855"
      ]
     },
     "metadata": {},
     "output_type": "display_data"
    }
   ],
   "source": [
    "logq.all(z, mu, phi, m, ssq)"
   ]
  },
  {
   "cell_type": "code",
   "execution_count": 7,
   "metadata": {
    "vscode": {
     "languageId": "r"
    }
   },
   "outputs": [
    {
     "data": {
      "text/html": [
       "<style>\n",
       ".list-inline {list-style: none; margin:0; padding: 0}\n",
       ".list-inline>li {display: inline-block}\n",
       ".list-inline>li:not(:last-child)::after {content: \"\\00b7\"; padding: 0 .5ex}\n",
       "</style>\n",
       "<ol class=list-inline><li>-0.918938533204673</li><li>-1.32801212348465</li></ol>\n"
      ],
      "text/latex": [
       "\\begin{enumerate*}\n",
       "\\item -0.918938533204673\n",
       "\\item -1.32801212348465\n",
       "\\end{enumerate*}\n"
      ],
      "text/markdown": [
       "1. -0.918938533204673\n",
       "2. -1.32801212348465\n",
       "\n",
       "\n"
      ],
      "text/plain": [
       "[1] -0.9189385 -1.3280121"
      ]
     },
     "metadata": {},
     "output_type": "display_data"
    }
   ],
   "source": [
    "logq.mu(z, mu, phi, m, ssq)"
   ]
  },
  {
   "cell_type": "code",
   "execution_count": 8,
   "metadata": {
    "vscode": {
     "languageId": "r"
    }
   },
   "outputs": [
    {
     "data": {
      "text/html": [
       "<style>\n",
       ".list-inline {list-style: none; margin:0; padding: 0}\n",
       ".list-inline>li {display: inline-block}\n",
       ".list-inline>li:not(:last-child)::after {content: \"\\00b7\"; padding: 0 .5ex}\n",
       "</style>\n",
       "<ol class=list-inline><li>-0.105360515657826</li><li>-0.356674943938732</li></ol>\n"
      ],
      "text/latex": [
       "\\begin{enumerate*}\n",
       "\\item -0.105360515657826\n",
       "\\item -0.356674943938732\n",
       "\\end{enumerate*}\n"
      ],
      "text/markdown": [
       "1. -0.105360515657826\n",
       "2. -0.356674943938732\n",
       "\n",
       "\n"
      ],
      "text/plain": [
       "[1] -0.1053605 -0.3566749"
      ]
     },
     "metadata": {},
     "output_type": "display_data"
    }
   ],
   "source": [
    "logq.z(z, mu, phi, m, ssq)"
   ]
  },
  {
   "cell_type": "code",
   "execution_count": 9,
   "metadata": {
    "vscode": {
     "languageId": "r"
    }
   },
   "outputs": [
    {
     "data": {
      "text/html": [
       "<style>\n",
       ".list-inline {list-style: none; margin:0; padding: 0}\n",
       ".list-inline>li {display: inline-block}\n",
       ".list-inline>li:not(:last-child)::after {content: \"\\00b7\"; padding: 0 .5ex}\n",
       "</style>\n",
       "<ol class=list-inline><li>0</li><li>-0.25</li></ol>\n"
      ],
      "text/latex": [
       "\\begin{enumerate*}\n",
       "\\item 0\n",
       "\\item -0.25\n",
       "\\end{enumerate*}\n"
      ],
      "text/markdown": [
       "1. 0\n",
       "2. -0.25\n",
       "\n",
       "\n"
      ],
      "text/plain": [
       "[1]  0.00 -0.25"
      ]
     },
     "metadata": {},
     "output_type": "display_data"
    }
   ],
   "source": [
    "grad.mu_m(mu, m, ssq)"
   ]
  },
  {
   "cell_type": "code",
   "execution_count": 10,
   "metadata": {
    "vscode": {
     "languageId": "r"
    }
   },
   "outputs": [
    {
     "data": {
      "text/html": [
       "<style>\n",
       ".list-inline {list-style: none; margin:0; padding: 0}\n",
       ".list-inline>li {display: inline-block}\n",
       ".list-inline>li:not(:last-child)::after {content: \"\\00b7\"; padding: 0 .5ex}\n",
       "</style>\n",
       "<ol class=list-inline><li>-0.5</li><li>-0.21875</li></ol>\n"
      ],
      "text/latex": [
       "\\begin{enumerate*}\n",
       "\\item -0.5\n",
       "\\item -0.21875\n",
       "\\end{enumerate*}\n"
      ],
      "text/markdown": [
       "1. -0.5\n",
       "2. -0.21875\n",
       "\n",
       "\n"
      ],
      "text/plain": [
       "[1] -0.50000 -0.21875"
      ]
     },
     "metadata": {},
     "output_type": "display_data"
    }
   ],
   "source": [
    "grad.mu_ssq(mu, m, ssq)"
   ]
  },
  {
   "cell_type": "code",
   "execution_count": 11,
   "metadata": {
    "vscode": {
     "languageId": "r"
    }
   },
   "outputs": [
    {
     "data": {
      "text/html": [
       "<table class=\"dataframe\">\n",
       "<caption>A matrix: 2 x 2 of type dbl</caption>\n",
       "<tbody>\n",
       "\t<tr><td>1.111111</td><td>0.000000</td></tr>\n",
       "\t<tr><td>0.000000</td><td>1.428571</td></tr>\n",
       "</tbody>\n",
       "</table>\n"
      ],
      "text/latex": [
       "A matrix: 2 x 2 of type dbl\n",
       "\\begin{tabular}{ll}\n",
       "\t 1.111111 & 0.000000\\\\\n",
       "\t 0.000000 & 1.428571\\\\\n",
       "\\end{tabular}\n"
      ],
      "text/markdown": [
       "\n",
       "A matrix: 2 x 2 of type dbl\n",
       "\n",
       "| 1.111111 | 0.000000 |\n",
       "| 0.000000 | 1.428571 |\n",
       "\n"
      ],
      "text/plain": [
       "     [,1]     [,2]    \n",
       "[1,] 1.111111 0.000000\n",
       "[2,] 0.000000 1.428571"
      ]
     },
     "metadata": {},
     "output_type": "display_data"
    }
   ],
   "source": [
    "grad.z(z, phi)"
   ]
  },
  {
   "cell_type": "code",
   "execution_count": 29,
   "metadata": {
    "vscode": {
     "languageId": "r"
    }
   },
   "outputs": [
    {
     "data": {
      "text/html": [
       "<table class=\"dataframe\">\n",
       "<caption>A matrix: 4 x 2 of type dbl</caption>\n",
       "<tbody>\n",
       "\t<tr><td>-1.2475145</td><td> 0.0000000</td></tr>\n",
       "\t<tr><td> 0.0000000</td><td>-1.6039472</td></tr>\n",
       "\t<tr><td>-1.3457034</td><td>-0.2042420</td></tr>\n",
       "\t<tr><td>-0.2450743</td><td> 0.2621139</td></tr>\n",
       "</tbody>\n",
       "</table>\n"
      ],
      "text/latex": [
       "A matrix: 4 x 2 of type dbl\n",
       "\\begin{tabular}{ll}\n",
       "\t -1.2475145 &  0.0000000\\\\\n",
       "\t  0.0000000 & -1.6039472\\\\\n",
       "\t -1.3457034 & -0.2042420\\\\\n",
       "\t -0.2450743 &  0.2621139\\\\\n",
       "\\end{tabular}\n"
      ],
      "text/markdown": [
       "\n",
       "A matrix: 4 x 2 of type dbl\n",
       "\n",
       "| -1.2475145 |  0.0000000 |\n",
       "|  0.0000000 | -1.6039472 |\n",
       "| -1.3457034 | -0.2042420 |\n",
       "| -0.2450743 |  0.2621139 |\n",
       "\n"
      ],
      "text/plain": [
       "     [,1]       [,2]      \n",
       "[1,] -1.2475145  0.0000000\n",
       "[2,]  0.0000000 -1.6039472\n",
       "[3,] -1.3457034 -0.2042420\n",
       "[4,] -0.2450743  0.2621139"
      ]
     },
     "metadata": {},
     "output_type": "display_data"
    }
   ],
   "source": [
    "grads <- rbind(\n",
    "    grad.z(z, phi),\n",
    "    matrix(grad.mu_m(mu, m, ssq), nrow=1, byrow = TRUE),\n",
    "    matrix(grad.mu_ssq(mu, m, ssq), nrow=1, byrow = TRUE)\n",
    ")\n",
    "\n",
    "diff <- as.numeric(logp.all(y,z,mu) - logq.all(z, mu, phi, m, ssq))\n",
    "grads * diff"
   ]
  },
  {
   "cell_type": "code",
   "execution_count": 30,
   "metadata": {
    "vscode": {
     "languageId": "r"
    }
   },
   "outputs": [
    {
     "data": {
      "text/html": [
       "<table class=\"dataframe\">\n",
       "<caption>A matrix: 4 x 2 of type dbl</caption>\n",
       "<tbody>\n",
       "\t<tr><td>1.1111111</td><td> 0.0000000</td></tr>\n",
       "\t<tr><td>0.0000000</td><td> 1.4285714</td></tr>\n",
       "\t<tr><td>1.1985640</td><td> 0.1819101</td></tr>\n",
       "\t<tr><td>0.2182779</td><td>-0.2334543</td></tr>\n",
       "</tbody>\n",
       "</table>\n"
      ],
      "text/latex": [
       "A matrix: 4 x 2 of type dbl\n",
       "\\begin{tabular}{ll}\n",
       "\t 1.1111111 &  0.0000000\\\\\n",
       "\t 0.0000000 &  1.4285714\\\\\n",
       "\t 1.1985640 &  0.1819101\\\\\n",
       "\t 0.2182779 & -0.2334543\\\\\n",
       "\\end{tabular}\n"
      ],
      "text/markdown": [
       "\n",
       "A matrix: 4 x 2 of type dbl\n",
       "\n",
       "| 1.1111111 |  0.0000000 |\n",
       "| 0.0000000 |  1.4285714 |\n",
       "| 1.1985640 |  0.1819101 |\n",
       "| 0.2182779 | -0.2334543 |\n",
       "\n"
      ],
      "text/plain": [
       "     [,1]      [,2]      \n",
       "[1,] 1.1111111  0.0000000\n",
       "[2,] 0.0000000  1.4285714\n",
       "[3,] 1.1985640  0.1819101\n",
       "[4,] 0.2182779 -0.2334543"
      ]
     },
     "metadata": {},
     "output_type": "display_data"
    }
   ],
   "source": [
    "rbind(\n",
    "    grad.z(z, phi),\n",
    "    matrix(grad.mu_m(mu, m, ssq), nrow=1, byrow = TRUE),\n",
    "    matrix(grad.mu_ssq(mu, m, ssq), nrow=1, byrow = TRUE)\n",
    ")"
   ]
  },
  {
   "cell_type": "code",
   "execution_count": 31,
   "metadata": {
    "vscode": {
     "languageId": "r"
    }
   },
   "outputs": [
    {
     "data": {
      "text/html": [
       "-1.12276301316182"
      ],
      "text/latex": [
       "-1.12276301316182"
      ],
      "text/markdown": [
       "-1.12276301316182"
      ],
      "text/plain": [
       "[1] -1.122763"
      ]
     },
     "metadata": {},
     "output_type": "display_data"
    }
   ],
   "source": [
    "as.numeric(logp.all(y,z,mu) - logq.all(z, mu, phi, m, ssq))"
   ]
  },
  {
   "cell_type": "code",
   "execution_count": 15,
   "metadata": {
    "vscode": {
     "languageId": "r"
    }
   },
   "outputs": [
    {
     "data": {
      "text/html": [
       "<table class=\"dataframe\">\n",
       "<caption>A matrix: 4 x 2 of type dbl</caption>\n",
       "<tbody>\n",
       "\t<tr><td> 0.4123434</td><td> 0.00000000</td></tr>\n",
       "\t<tr><td> 0.0000000</td><td> 0.53015579</td></tr>\n",
       "\t<tr><td> 0.0000000</td><td>-0.09277726</td></tr>\n",
       "\t<tr><td>-0.1855545</td><td>-0.08118010</td></tr>\n",
       "</tbody>\n",
       "</table>\n"
      ],
      "text/latex": [
       "A matrix: 4 x 2 of type dbl\n",
       "\\begin{tabular}{ll}\n",
       "\t  0.4123434 &  0.00000000\\\\\n",
       "\t  0.0000000 &  0.53015579\\\\\n",
       "\t  0.0000000 & -0.09277726\\\\\n",
       "\t -0.1855545 & -0.08118010\\\\\n",
       "\\end{tabular}\n"
      ],
      "text/markdown": [
       "\n",
       "A matrix: 4 x 2 of type dbl\n",
       "\n",
       "|  0.4123434 |  0.00000000 |\n",
       "|  0.0000000 |  0.53015579 |\n",
       "|  0.0000000 | -0.09277726 |\n",
       "| -0.1855545 | -0.08118010 |\n",
       "\n"
      ],
      "text/plain": [
       "     [,1]       [,2]       \n",
       "[1,]  0.4123434  0.00000000\n",
       "[2,]  0.0000000  0.53015579\n",
       "[3,]  0.0000000 -0.09277726\n",
       "[4,] -0.1855545 -0.08118010"
      ]
     },
     "metadata": {},
     "output_type": "display_data"
    }
   ],
   "source": [
    "grads * diff"
   ]
  },
  {
   "cell_type": "code",
   "execution_count": 16,
   "metadata": {
    "vscode": {
     "languageId": "r"
    }
   },
   "outputs": [
    {
     "data": {
      "text/html": [
       "<table class=\"dataframe\">\n",
       "<caption>A data.frame: 4 x 3</caption>\n",
       "<thead>\n",
       "\t<tr><th scope=col>param</th><th scope=col>X1</th><th scope=col>X2</th></tr>\n",
       "\t<tr><th scope=col>&lt;chr&gt;</th><th scope=col>&lt;dbl&gt;</th><th scope=col>&lt;dbl&gt;</th></tr>\n",
       "</thead>\n",
       "<tbody>\n",
       "\t<tr><td>z1 </td><td> 0.4123434</td><td> 0.00000000</td></tr>\n",
       "\t<tr><td>z2 </td><td> 0.0000000</td><td> 0.53015579</td></tr>\n",
       "\t<tr><td>m  </td><td> 0.0000000</td><td>-0.09277726</td></tr>\n",
       "\t<tr><td>ssq</td><td>-0.1855545</td><td>-0.08118010</td></tr>\n",
       "</tbody>\n",
       "</table>\n"
      ],
      "text/latex": [
       "A data.frame: 4 x 3\n",
       "\\begin{tabular}{lll}\n",
       " param & X1 & X2\\\\\n",
       " <chr> & <dbl> & <dbl>\\\\\n",
       "\\hline\n",
       "\t z1  &  0.4123434 &  0.00000000\\\\\n",
       "\t z2  &  0.0000000 &  0.53015579\\\\\n",
       "\t m   &  0.0000000 & -0.09277726\\\\\n",
       "\t ssq & -0.1855545 & -0.08118010\\\\\n",
       "\\end{tabular}\n"
      ],
      "text/markdown": [
       "\n",
       "A data.frame: 4 x 3\n",
       "\n",
       "| param &lt;chr&gt; | X1 &lt;dbl&gt; | X2 &lt;dbl&gt; |\n",
       "|---|---|---|\n",
       "| z1  |  0.4123434 |  0.00000000 |\n",
       "| z2  |  0.0000000 |  0.53015579 |\n",
       "| m   |  0.0000000 | -0.09277726 |\n",
       "| ssq | -0.1855545 | -0.08118010 |\n",
       "\n"
      ],
      "text/plain": [
       "  param X1         X2         \n",
       "1 z1     0.4123434  0.00000000\n",
       "2 z2     0.0000000  0.53015579\n",
       "3 m      0.0000000 -0.09277726\n",
       "4 ssq   -0.1855545 -0.08118010"
      ]
     },
     "metadata": {},
     "output_type": "display_data"
    }
   ],
   "source": [
    "dat <- list(\n",
    "    method = \"Naive\",\n",
    "    Z = rbind(\n",
    "        data.frame(iter = 1, param = c(\"z1\", \"z2\",\"m\",\"ssq\"), grads * diff),\n",
    "        data.frame(iter = 2, param = c(\"z1\", \"z2\",\"m\",\"ssq\"), grads * diff)\n",
    "    )\n",
    ")\n",
    "\n",
    "generate_bbvi(dat)"
   ]
  },
  {
   "cell_type": "code",
   "execution_count": 17,
   "metadata": {
    "vscode": {
     "languageId": "r"
    }
   },
   "outputs": [
    {
     "data": {
      "text/html": [
       "<style>\n",
       ".list-inline {list-style: none; margin:0; padding: 0}\n",
       ".list-inline>li {display: inline-block}\n",
       ".list-inline>li:not(:last-child)::after {content: \"\\00b7\"; padding: 0 .5ex}\n",
       "</style>\n",
       "<ol class=list-inline><li>1.21732132703569</li><li>-0.0327483091469969</li></ol>\n"
      ],
      "text/latex": [
       "\\begin{enumerate*}\n",
       "\\item 1.21732132703569\n",
       "\\item -0.0327483091469969\n",
       "\\end{enumerate*}\n"
      ],
      "text/markdown": [
       "1. 1.21732132703569\n",
       "2. -0.0327483091469969\n",
       "\n",
       "\n"
      ],
      "text/plain": [
       "[1]  1.21732133 -0.03274831"
      ]
     },
     "metadata": {},
     "output_type": "display_data"
    }
   ],
   "source": [
    "mu <- sapply(m, function(x){\n",
    "    return(rnorm(1, mean=x, sd=1))\n",
    "})\n",
    "\n",
    "mu"
   ]
  },
  {
   "cell_type": "code",
   "execution_count": 25,
   "metadata": {
    "vscode": {
     "languageId": "r"
    }
   },
   "outputs": [
    {
     "data": {
      "text/html": [
       "<style>\n",
       ".list-inline {list-style: none; margin:0; padding: 0}\n",
       ".list-inline>li {display: inline-block}\n",
       ".list-inline>li:not(:last-child)::after {content: \"\\00b7\"; padding: 0 .5ex}\n",
       "</style>\n",
       "<ol class=list-inline><li>-1</li><li>1</li></ol>\n"
      ],
      "text/latex": [
       "\\begin{enumerate*}\n",
       "\\item -1\n",
       "\\item 1\n",
       "\\end{enumerate*}\n"
      ],
      "text/markdown": [
       "1. -1\n",
       "2. 1\n",
       "\n",
       "\n"
      ],
      "text/plain": [
       "[1] -1  1"
      ]
     },
     "metadata": {},
     "output_type": "display_data"
    }
   ],
   "source": [
    "y"
   ]
  },
  {
   "cell_type": "code",
   "execution_count": 36,
   "metadata": {
    "vscode": {
     "languageId": "r"
    }
   },
   "outputs": [
    {
     "data": {
      "text/html": [
       "<dl>\n",
       "\t<dt>$Ancestor</dt>\n",
       "\t\t<dd><table class=\"dataframe\">\n",
       "<caption>A matrix: 4 x 2 of type dbl</caption>\n",
       "<tbody>\n",
       "\t<tr><th scope=row></th><td> 0.9</td><td>0.1</td></tr>\n",
       "\t<tr><th scope=row></th><td> 0.3</td><td>0.7</td></tr>\n",
       "\t<tr><th scope=row>m</th><td>-0.5</td><td>1.0</td></tr>\n",
       "\t<tr><th scope=row>ssq</th><td> 1.0</td><td>2.0</td></tr>\n",
       "</tbody>\n",
       "</table>\n",
       "</dd>\n",
       "\t<dt>$MC</dt>\n",
       "\t\t<dd><table class=\"dataframe\">\n",
       "<caption>A data.frame: 15 x 4</caption>\n",
       "<thead>\n",
       "\t<tr><th scope=col>iter</th><th scope=col>param</th><th scope=col>X1</th><th scope=col>X2</th></tr>\n",
       "\t<tr><th scope=col>&lt;int&gt;</th><th scope=col>&lt;chr&gt;</th><th scope=col>&lt;dbl&gt;</th><th scope=col>&lt;dbl&gt;</th></tr>\n",
       "</thead>\n",
       "<tbody>\n",
       "\t<tr><td>1</td><td>z1</td><td> 1.0000000</td><td> 0.0000000</td></tr>\n",
       "\t<tr><td>1</td><td>z2</td><td> 0.0000000</td><td> 1.0000000</td></tr>\n",
       "\t<tr><td>1</td><td>mu</td><td>-2.4140847</td><td> 2.1687993</td></tr>\n",
       "\t<tr><td>2</td><td>z1</td><td> 1.0000000</td><td> 0.0000000</td></tr>\n",
       "\t<tr><td>2</td><td>z2</td><td> 0.0000000</td><td> 1.0000000</td></tr>\n",
       "\t<tr><td>2</td><td>mu</td><td>-1.3886720</td><td>-0.4087990</td></tr>\n",
       "\t<tr><td>3</td><td>z1</td><td> 1.0000000</td><td> 0.0000000</td></tr>\n",
       "\t<tr><td>3</td><td>z2</td><td> 1.0000000</td><td> 0.0000000</td></tr>\n",
       "\t<tr><td>3</td><td>mu</td><td>-2.0148348</td><td> 1.0279638</td></tr>\n",
       "\t<tr><td>4</td><td>z1</td><td> 1.0000000</td><td> 0.0000000</td></tr>\n",
       "\t<tr><td>4</td><td>z2</td><td> 0.0000000</td><td> 1.0000000</td></tr>\n",
       "\t<tr><td>4</td><td>mu</td><td> 0.5029895</td><td> 1.6177212</td></tr>\n",
       "\t<tr><td>5</td><td>z1</td><td> 1.0000000</td><td> 0.0000000</td></tr>\n",
       "\t<tr><td>5</td><td>z2</td><td> 1.0000000</td><td> 0.0000000</td></tr>\n",
       "\t<tr><td>5</td><td>mu</td><td>-0.9600668</td><td> 0.7417993</td></tr>\n",
       "</tbody>\n",
       "</table>\n",
       "</dd>\n",
       "\t<dt>$Z</dt>\n",
       "\t\t<dd><table class=\"dataframe\">\n",
       "<caption>A data.frame: 20 x 4</caption>\n",
       "<thead>\n",
       "\t<tr><th scope=col>iter</th><th scope=col>param</th><th scope=col>X1</th><th scope=col>X2</th></tr>\n",
       "\t<tr><th scope=col>&lt;int&gt;</th><th scope=col>&lt;chr&gt;</th><th scope=col>&lt;dbl&gt;</th><th scope=col>&lt;dbl&gt;</th></tr>\n",
       "</thead>\n",
       "<tbody>\n",
       "\t<tr><td>1</td><td>z1 </td><td> -4.40735472</td><td> 0.0000000000</td></tr>\n",
       "\t<tr><td>1</td><td>z2 </td><td>  0.00000000</td><td>-5.6665989261</td></tr>\n",
       "\t<tr><td>1</td><td>m  </td><td>  7.59244518</td><td>-2.3180909326</td></tr>\n",
       "\t<tr><td>1</td><td>ssq</td><td> -5.28298191</td><td> 0.3143090378</td></tr>\n",
       "\t<tr><td>2</td><td>z1 </td><td> -0.46221878</td><td> 0.0000000000</td></tr>\n",
       "\t<tr><td>2</td><td>z2 </td><td>  0.00000000</td><td>-0.5942812874</td></tr>\n",
       "\t<tr><td>2</td><td>m  </td><td>  0.36968482</td><td> 0.2930280055</td></tr>\n",
       "\t<tr><td>2</td><td>ssq</td><td>  0.04373417</td><td> 0.0007948363</td></tr>\n",
       "\t<tr><td>3</td><td>z1 </td><td> -5.34914327</td><td> 0.0000000000</td></tr>\n",
       "\t<tr><td>3</td><td>z2 </td><td>-16.04742980</td><td> 0.0000000000</td></tr>\n",
       "\t<tr><td>3</td><td>m  </td><td>  7.29276144</td><td>-0.0673120018</td></tr>\n",
       "\t<tr><td>3</td><td>ssq</td><td> -3.11654987</td><td> 1.2030866609</td></tr>\n",
       "\t<tr><td>4</td><td>z1 </td><td> -1.49810072</td><td> 0.0000000000</td></tr>\n",
       "\t<tr><td>4</td><td>z2 </td><td>  0.00000000</td><td>-1.9261294907</td></tr>\n",
       "\t<tr><td>4</td><td>m  </td><td> -1.35232137</td><td>-0.4164338244</td></tr>\n",
       "\t<tr><td>4</td><td>ssq</td><td> -0.00403675</td><td> 0.2727626655</td></tr>\n",
       "\t<tr><td>5</td><td>z1 </td><td> -0.97702317</td><td> 0.0000000000</td></tr>\n",
       "\t<tr><td>5</td><td>z2 </td><td> -2.93106951</td><td> 0.0000000000</td></tr>\n",
       "\t<tr><td>5</td><td>m  </td><td>  0.40454629</td><td> 0.1135206250</td></tr>\n",
       "\t<tr><td>5</td><td>ssq</td><td>  0.34660128</td><td> 0.2125024370</td></tr>\n",
       "</tbody>\n",
       "</table>\n",
       "</dd>\n",
       "\t<dt>$method</dt>\n",
       "\t\t<dd>'JS+'</dd>\n",
       "</dl>\n"
      ],
      "text/latex": [
       "\\begin{description}\n",
       "\\item[\\$Ancestor] A matrix: 4 x 2 of type dbl\n",
       "\\begin{tabular}{r|ll}\n",
       "\t &  0.9 & 0.1\\\\\n",
       "\t &  0.3 & 0.7\\\\\n",
       "\tm & -0.5 & 1.0\\\\\n",
       "\tssq &  1.0 & 2.0\\\\\n",
       "\\end{tabular}\n",
       "\n",
       "\\item[\\$MC] A data.frame: 15 x 4\n",
       "\\begin{tabular}{llll}\n",
       " iter & param & X1 & X2\\\\\n",
       " <int> & <chr> & <dbl> & <dbl>\\\\\n",
       "\\hline\n",
       "\t 1 & z1 &  1.0000000 &  0.0000000\\\\\n",
       "\t 1 & z2 &  0.0000000 &  1.0000000\\\\\n",
       "\t 1 & mu & -2.4140847 &  2.1687993\\\\\n",
       "\t 2 & z1 &  1.0000000 &  0.0000000\\\\\n",
       "\t 2 & z2 &  0.0000000 &  1.0000000\\\\\n",
       "\t 2 & mu & -1.3886720 & -0.4087990\\\\\n",
       "\t 3 & z1 &  1.0000000 &  0.0000000\\\\\n",
       "\t 3 & z2 &  1.0000000 &  0.0000000\\\\\n",
       "\t 3 & mu & -2.0148348 &  1.0279638\\\\\n",
       "\t 4 & z1 &  1.0000000 &  0.0000000\\\\\n",
       "\t 4 & z2 &  0.0000000 &  1.0000000\\\\\n",
       "\t 4 & mu &  0.5029895 &  1.6177212\\\\\n",
       "\t 5 & z1 &  1.0000000 &  0.0000000\\\\\n",
       "\t 5 & z2 &  1.0000000 &  0.0000000\\\\\n",
       "\t 5 & mu & -0.9600668 &  0.7417993\\\\\n",
       "\\end{tabular}\n",
       "\n",
       "\\item[\\$Z] A data.frame: 20 x 4\n",
       "\\begin{tabular}{llll}\n",
       " iter & param & X1 & X2\\\\\n",
       " <int> & <chr> & <dbl> & <dbl>\\\\\n",
       "\\hline\n",
       "\t 1 & z1  &  -4.40735472 &  0.0000000000\\\\\n",
       "\t 1 & z2  &   0.00000000 & -5.6665989261\\\\\n",
       "\t 1 & m   &   7.59244518 & -2.3180909326\\\\\n",
       "\t 1 & ssq &  -5.28298191 &  0.3143090378\\\\\n",
       "\t 2 & z1  &  -0.46221878 &  0.0000000000\\\\\n",
       "\t 2 & z2  &   0.00000000 & -0.5942812874\\\\\n",
       "\t 2 & m   &   0.36968482 &  0.2930280055\\\\\n",
       "\t 2 & ssq &   0.04373417 &  0.0007948363\\\\\n",
       "\t 3 & z1  &  -5.34914327 &  0.0000000000\\\\\n",
       "\t 3 & z2  & -16.04742980 &  0.0000000000\\\\\n",
       "\t 3 & m   &   7.29276144 & -0.0673120018\\\\\n",
       "\t 3 & ssq &  -3.11654987 &  1.2030866609\\\\\n",
       "\t 4 & z1  &  -1.49810072 &  0.0000000000\\\\\n",
       "\t 4 & z2  &   0.00000000 & -1.9261294907\\\\\n",
       "\t 4 & m   &  -1.35232137 & -0.4164338244\\\\\n",
       "\t 4 & ssq &  -0.00403675 &  0.2727626655\\\\\n",
       "\t 5 & z1  &  -0.97702317 &  0.0000000000\\\\\n",
       "\t 5 & z2  &  -2.93106951 &  0.0000000000\\\\\n",
       "\t 5 & m   &   0.40454629 &  0.1135206250\\\\\n",
       "\t 5 & ssq &   0.34660128 &  0.2125024370\\\\\n",
       "\\end{tabular}\n",
       "\n",
       "\\item[\\$method] 'JS+'\n",
       "\\end{description}\n"
      ],
      "text/markdown": [
       "$Ancestor\n",
       ":   \n",
       "A matrix: 4 x 2 of type dbl\n",
       "\n",
       "| <!----> |  0.9 | 0.1 |\n",
       "| <!----> |  0.3 | 0.7 |\n",
       "| m | -0.5 | 1.0 |\n",
       "| ssq |  1.0 | 2.0 |\n",
       "\n",
       "\n",
       "$MC\n",
       ":   \n",
       "A data.frame: 15 x 4\n",
       "\n",
       "| iter &lt;int&gt; | param &lt;chr&gt; | X1 &lt;dbl&gt; | X2 &lt;dbl&gt; |\n",
       "|---|---|---|---|\n",
       "| 1 | z1 |  1.0000000 |  0.0000000 |\n",
       "| 1 | z2 |  0.0000000 |  1.0000000 |\n",
       "| 1 | mu | -2.4140847 |  2.1687993 |\n",
       "| 2 | z1 |  1.0000000 |  0.0000000 |\n",
       "| 2 | z2 |  0.0000000 |  1.0000000 |\n",
       "| 2 | mu | -1.3886720 | -0.4087990 |\n",
       "| 3 | z1 |  1.0000000 |  0.0000000 |\n",
       "| 3 | z2 |  1.0000000 |  0.0000000 |\n",
       "| 3 | mu | -2.0148348 |  1.0279638 |\n",
       "| 4 | z1 |  1.0000000 |  0.0000000 |\n",
       "| 4 | z2 |  0.0000000 |  1.0000000 |\n",
       "| 4 | mu |  0.5029895 |  1.6177212 |\n",
       "| 5 | z1 |  1.0000000 |  0.0000000 |\n",
       "| 5 | z2 |  1.0000000 |  0.0000000 |\n",
       "| 5 | mu | -0.9600668 |  0.7417993 |\n",
       "\n",
       "\n",
       "$Z\n",
       ":   \n",
       "A data.frame: 20 x 4\n",
       "\n",
       "| iter &lt;int&gt; | param &lt;chr&gt; | X1 &lt;dbl&gt; | X2 &lt;dbl&gt; |\n",
       "|---|---|---|---|\n",
       "| 1 | z1  |  -4.40735472 |  0.0000000000 |\n",
       "| 1 | z2  |   0.00000000 | -5.6665989261 |\n",
       "| 1 | m   |   7.59244518 | -2.3180909326 |\n",
       "| 1 | ssq |  -5.28298191 |  0.3143090378 |\n",
       "| 2 | z1  |  -0.46221878 |  0.0000000000 |\n",
       "| 2 | z2  |   0.00000000 | -0.5942812874 |\n",
       "| 2 | m   |   0.36968482 |  0.2930280055 |\n",
       "| 2 | ssq |   0.04373417 |  0.0007948363 |\n",
       "| 3 | z1  |  -5.34914327 |  0.0000000000 |\n",
       "| 3 | z2  | -16.04742980 |  0.0000000000 |\n",
       "| 3 | m   |   7.29276144 | -0.0673120018 |\n",
       "| 3 | ssq |  -3.11654987 |  1.2030866609 |\n",
       "| 4 | z1  |  -1.49810072 |  0.0000000000 |\n",
       "| 4 | z2  |   0.00000000 | -1.9261294907 |\n",
       "| 4 | m   |  -1.35232137 | -0.4164338244 |\n",
       "| 4 | ssq |  -0.00403675 |  0.2727626655 |\n",
       "| 5 | z1  |  -0.97702317 |  0.0000000000 |\n",
       "| 5 | z2  |  -2.93106951 |  0.0000000000 |\n",
       "| 5 | m   |   0.40454629 |  0.1135206250 |\n",
       "| 5 | ssq |   0.34660128 |  0.2125024370 |\n",
       "\n",
       "\n",
       "$method\n",
       ":   'JS+'\n",
       "\n",
       "\n"
      ],
      "text/plain": [
       "$Ancestor\n",
       "    [,1] [,2]\n",
       "     0.9  0.1\n",
       "     0.3  0.7\n",
       "m   -0.5  1.0\n",
       "ssq  1.0  2.0\n",
       "\n",
       "$MC\n",
       "   iter param         X1         X2\n",
       "1     1    z1  1.0000000  0.0000000\n",
       "2     1    z2  0.0000000  1.0000000\n",
       "3     1    mu -2.4140847  2.1687993\n",
       "4     2    z1  1.0000000  0.0000000\n",
       "5     2    z2  0.0000000  1.0000000\n",
       "6     2    mu -1.3886720 -0.4087990\n",
       "7     3    z1  1.0000000  0.0000000\n",
       "8     3    z2  1.0000000  0.0000000\n",
       "9     3    mu -2.0148348  1.0279638\n",
       "10    4    z1  1.0000000  0.0000000\n",
       "11    4    z2  0.0000000  1.0000000\n",
       "12    4    mu  0.5029895  1.6177212\n",
       "13    5    z1  1.0000000  0.0000000\n",
       "14    5    z2  1.0000000  0.0000000\n",
       "15    5    mu -0.9600668  0.7417993\n",
       "\n",
       "$Z\n",
       "   iter param           X1            X2\n",
       "1     1    z1  -4.40735472  0.0000000000\n",
       "2     1    z2   0.00000000 -5.6665989261\n",
       "3     1     m   7.59244518 -2.3180909326\n",
       "4     1   ssq  -5.28298191  0.3143090378\n",
       "5     2    z1  -0.46221878  0.0000000000\n",
       "6     2    z2   0.00000000 -0.5942812874\n",
       "7     2     m   0.36968482  0.2930280055\n",
       "8     2   ssq   0.04373417  0.0007948363\n",
       "9     3    z1  -5.34914327  0.0000000000\n",
       "10    3    z2 -16.04742980  0.0000000000\n",
       "11    3     m   7.29276144 -0.0673120018\n",
       "12    3   ssq  -3.11654987  1.2030866609\n",
       "13    4    z1  -1.49810072  0.0000000000\n",
       "14    4    z2   0.00000000 -1.9261294907\n",
       "15    4     m  -1.35232137 -0.4164338244\n",
       "16    4   ssq  -0.00403675  0.2727626655\n",
       "17    5    z1  -0.97702317  0.0000000000\n",
       "18    5    z2  -2.93106951  0.0000000000\n",
       "19    5     m   0.40454629  0.1135206250\n",
       "20    5   ssq   0.34660128  0.2125024370\n",
       "\n",
       "$method\n",
       "[1] \"JS+\"\n"
      ]
     },
     "metadata": {},
     "output_type": "display_data"
    }
   ],
   "source": [
    "dat <- generate_samples(S = 5, y, phi, m, ssq, method = \"JS+\")\n",
    "dat"
   ]
  },
  {
   "cell_type": "code",
   "execution_count": 37,
   "metadata": {
    "vscode": {
     "languageId": "r"
    }
   },
   "outputs": [
    {
     "data": {
      "text/html": [
       "<table class=\"dataframe\">\n",
       "<caption>A data.frame: 4 x 3</caption>\n",
       "<thead>\n",
       "\t<tr><th scope=col>param</th><th scope=col>X1</th><th scope=col>X2</th></tr>\n",
       "\t<tr><th scope=col>&lt;chr&gt;</th><th scope=col>&lt;dbl&gt;</th><th scope=col>&lt;dbl&gt;</th></tr>\n",
       "</thead>\n",
       "<tbody>\n",
       "\t<tr><td>z1 </td><td>-0.3852144</td><td> 0.0000000</td></tr>\n",
       "\t<tr><td>z2 </td><td>-1.4449600</td><td> 0.0000000</td></tr>\n",
       "\t<tr><td>m  </td><td> 0.0000000</td><td>-0.2748666</td></tr>\n",
       "\t<tr><td>ssq</td><td> 0.0000000</td><td> 0.4003917</td></tr>\n",
       "</tbody>\n",
       "</table>\n"
      ],
      "text/latex": [
       "A data.frame: 4 x 3\n",
       "\\begin{tabular}{lll}\n",
       " param & X1 & X2\\\\\n",
       " <chr> & <dbl> & <dbl>\\\\\n",
       "\\hline\n",
       "\t z1  & -0.3852144 &  0.0000000\\\\\n",
       "\t z2  & -1.4449600 &  0.0000000\\\\\n",
       "\t m   &  0.0000000 & -0.2748666\\\\\n",
       "\t ssq &  0.0000000 &  0.4003917\\\\\n",
       "\\end{tabular}\n"
      ],
      "text/markdown": [
       "\n",
       "A data.frame: 4 x 3\n",
       "\n",
       "| param &lt;chr&gt; | X1 &lt;dbl&gt; | X2 &lt;dbl&gt; |\n",
       "|---|---|---|\n",
       "| z1  | -0.3852144 |  0.0000000 |\n",
       "| z2  | -1.4449600 |  0.0000000 |\n",
       "| m   |  0.0000000 | -0.2748666 |\n",
       "| ssq |  0.0000000 |  0.4003917 |\n",
       "\n"
      ],
      "text/plain": [
       "  param X1         X2        \n",
       "1 z1    -0.3852144  0.0000000\n",
       "2 z2    -1.4449600  0.0000000\n",
       "3 m      0.0000000 -0.2748666\n",
       "4 ssq    0.0000000  0.4003917"
      ]
     },
     "metadata": {},
     "output_type": "display_data"
    }
   ],
   "source": [
    "generate_bbvi(dat)"
   ]
  },
  {
   "cell_type": "code",
   "execution_count": 40,
   "metadata": {
    "vscode": {
     "languageId": "r"
    }
   },
   "outputs": [
    {
     "data": {
      "text/html": [
       "<table class=\"dataframe\">\n",
       "<caption>A data.frame: 4 x 3</caption>\n",
       "<thead>\n",
       "\t<tr><th scope=col>param</th><th scope=col>X1</th><th scope=col>X2</th></tr>\n",
       "\t<tr><th scope=col>&lt;chr&gt;</th><th scope=col>&lt;dbl&gt;</th><th scope=col>&lt;dbl&gt;</th></tr>\n",
       "</thead>\n",
       "<tbody>\n",
       "\t<tr><td>z1 </td><td>-2.538768</td><td> 0.0000000</td></tr>\n",
       "\t<tr><td>z2 </td><td>-3.795700</td><td>-1.6374019</td></tr>\n",
       "\t<tr><td>m  </td><td> 2.861423</td><td>-0.4790576</td></tr>\n",
       "\t<tr><td>ssq</td><td>-1.602647</td><td> 0.4006911</td></tr>\n",
       "</tbody>\n",
       "</table>\n"
      ],
      "text/latex": [
       "A data.frame: 4 x 3\n",
       "\\begin{tabular}{lll}\n",
       " param & X1 & X2\\\\\n",
       " <chr> & <dbl> & <dbl>\\\\\n",
       "\\hline\n",
       "\t z1  & -2.538768 &  0.0000000\\\\\n",
       "\t z2  & -3.795700 & -1.6374019\\\\\n",
       "\t m   &  2.861423 & -0.4790576\\\\\n",
       "\t ssq & -1.602647 &  0.4006911\\\\\n",
       "\\end{tabular}\n"
      ],
      "text/markdown": [
       "\n",
       "A data.frame: 4 x 3\n",
       "\n",
       "| param &lt;chr&gt; | X1 &lt;dbl&gt; | X2 &lt;dbl&gt; |\n",
       "|---|---|---|\n",
       "| z1  | -2.538768 |  0.0000000 |\n",
       "| z2  | -3.795700 | -1.6374019 |\n",
       "| m   |  2.861423 | -0.4790576 |\n",
       "| ssq | -1.602647 |  0.4006911 |\n",
       "\n"
      ],
      "text/plain": [
       "  param X1        X2        \n",
       "1 z1    -2.538768  0.0000000\n",
       "2 z2    -3.795700 -1.6374019\n",
       "3 m      2.861423 -0.4790576\n",
       "4 ssq   -1.602647  0.4006911"
      ]
     },
     "metadata": {},
     "output_type": "display_data"
    }
   ],
   "source": [
    "generate_bbvi(dat, method=\"Naive\")"
   ]
  },
  {
   "cell_type": "code",
   "execution_count": 41,
   "metadata": {
    "vscode": {
     "languageId": "r"
    }
   },
   "outputs": [
    {
     "data": {
      "text/html": [
       "<table class=\"dataframe\">\n",
       "<caption>A data.frame: 4 x 3</caption>\n",
       "<thead>\n",
       "\t<tr><th scope=col>param</th><th scope=col>X1</th><th scope=col>X2</th></tr>\n",
       "\t<tr><th scope=col>&lt;chr&gt;</th><th scope=col>&lt;dbl&gt;</th><th scope=col>&lt;dbl&gt;</th></tr>\n",
       "</thead>\n",
       "<tbody>\n",
       "\t<tr><td>z1 </td><td>-1.1029423</td><td> 0.000000</td></tr>\n",
       "\t<tr><td>z2 </td><td>-0.4783572</td><td>-1.378822</td></tr>\n",
       "\t<tr><td>m  </td><td>-2.4631094</td><td>-2.970249</td></tr>\n",
       "\t<tr><td>ssq</td><td>-1.8604124</td><td>-1.653487</td></tr>\n",
       "</tbody>\n",
       "</table>\n"
      ],
      "text/latex": [
       "A data.frame: 4 x 3\n",
       "\\begin{tabular}{lll}\n",
       " param & X1 & X2\\\\\n",
       " <chr> & <dbl> & <dbl>\\\\\n",
       "\\hline\n",
       "\t z1  & -1.1029423 &  0.000000\\\\\n",
       "\t z2  & -0.4783572 & -1.378822\\\\\n",
       "\t m   & -2.4631094 & -2.970249\\\\\n",
       "\t ssq & -1.8604124 & -1.653487\\\\\n",
       "\\end{tabular}\n"
      ],
      "text/markdown": [
       "\n",
       "A data.frame: 4 x 3\n",
       "\n",
       "| param &lt;chr&gt; | X1 &lt;dbl&gt; | X2 &lt;dbl&gt; |\n",
       "|---|---|---|\n",
       "| z1  | -1.1029423 |  0.000000 |\n",
       "| z2  | -0.4783572 | -1.378822 |\n",
       "| m   | -2.4631094 | -2.970249 |\n",
       "| ssq | -1.8604124 | -1.653487 |\n",
       "\n"
      ],
      "text/plain": [
       "  param X1         X2       \n",
       "1 z1    -1.1029423  0.000000\n",
       "2 z2    -0.4783572 -1.378822\n",
       "3 m     -2.4631094 -2.970249\n",
       "4 ssq   -1.8604124 -1.653487"
      ]
     },
     "metadata": {},
     "output_type": "display_data"
    }
   ],
   "source": [
    "generate_bbvi(generate_samples(S = 5, y, phi, m, ssq, method = \"RB\"))"
   ]
  },
  {
   "cell_type": "code",
   "execution_count": 35,
   "metadata": {
    "vscode": {
     "languageId": "r"
    }
   },
   "outputs": [
    {
     "data": {
      "text/html": [
       "<style>\n",
       ".list-inline {list-style: none; margin:0; padding: 0}\n",
       ".list-inline>li {display: inline-block}\n",
       ".list-inline>li:not(:last-child)::after {content: \"\\00b7\"; padding: 0 .5ex}\n",
       "</style>\n",
       "<ol class=list-inline><li>'z1'</li><li>'z2'</li><li>'m'</li><li>'ssq'</li></ol>\n"
      ],
      "text/latex": [
       "\\begin{enumerate*}\n",
       "\\item 'z1'\n",
       "\\item 'z2'\n",
       "\\item 'm'\n",
       "\\item 'ssq'\n",
       "\\end{enumerate*}\n"
      ],
      "text/markdown": [
       "1. 'z1'\n",
       "2. 'z2'\n",
       "3. 'm'\n",
       "4. 'ssq'\n",
       "\n",
       "\n"
      ],
      "text/plain": [
       "[1] \"z1\"  \"z2\"  \"m\"   \"ssq\""
      ]
     },
     "metadata": {},
     "output_type": "display_data"
    }
   ],
   "source": [
    "unique(dat$Z$param)"
   ]
  },
  {
   "cell_type": "code",
   "execution_count": 301,
   "metadata": {
    "vscode": {
     "languageId": "r"
    }
   },
   "outputs": [
    {
     "data": {
      "text/html": [
       "<table class=\"dataframe\">\n",
       "<caption>A data.frame: 20 x 5</caption>\n",
       "<thead>\n",
       "\t<tr><th scope=col>iter</th><th scope=col>time</th><th scope=col>param</th><th scope=col>X1</th><th scope=col>X2</th></tr>\n",
       "\t<tr><th scope=col>&lt;int&gt;</th><th scope=col>&lt;dbl&gt;</th><th scope=col>&lt;chr&gt;</th><th scope=col>&lt;dbl&gt;</th><th scope=col>&lt;dbl&gt;</th></tr>\n",
       "</thead>\n",
       "<tbody>\n",
       "\t<tr><td>1</td><td>-0.0001226346</td><td>z1 </td><td> 0.5614887</td><td>  0.4385113</td></tr>\n",
       "\t<tr><td>1</td><td>-0.0001226346</td><td>z2 </td><td> 0.5353423</td><td>  0.4646577</td></tr>\n",
       "\t<tr><td>1</td><td>-0.0001226346</td><td>m  </td><td>49.2557913</td><td>-17.1638733</td></tr>\n",
       "\t<tr><td>1</td><td>-0.0001226346</td><td>ssq</td><td> 8.5062348</td><td>  1.9172713</td></tr>\n",
       "\t<tr><td>2</td><td>-0.0002052506</td><td>z1 </td><td> 0.5607255</td><td>  0.4392745</td></tr>\n",
       "\t<tr><td>2</td><td>-0.0002052506</td><td>z2 </td><td> 0.5347512</td><td>  0.4652488</td></tr>\n",
       "\t<tr><td>2</td><td>-0.0002052506</td><td>m  </td><td>49.2554260</td><td>-17.1639156</td></tr>\n",
       "\t<tr><td>2</td><td>-0.0002052506</td><td>ssq</td><td> 8.5061716</td><td>  1.9173230</td></tr>\n",
       "\t<tr><td>3</td><td>-0.0005715330</td><td>z1 </td><td> 0.5608909</td><td>  0.4391091</td></tr>\n",
       "\t<tr><td>3</td><td>-0.0005715330</td><td>z2 </td><td> 0.5340628</td><td>  0.4659372</td></tr>\n",
       "\t<tr><td>3</td><td>-0.0005715330</td><td>m  </td><td>49.2558666</td><td>-17.1638640</td></tr>\n",
       "\t<tr><td>3</td><td>-0.0005715330</td><td>ssq</td><td> 8.5061968</td><td>  1.9173384</td></tr>\n",
       "\t<tr><td>4</td><td>-0.0006456017</td><td>z1 </td><td> 0.5602008</td><td>  0.4397992</td></tr>\n",
       "\t<tr><td>4</td><td>-0.0006456017</td><td>z2 </td><td> 0.5335808</td><td>  0.4664192</td></tr>\n",
       "\t<tr><td>4</td><td>-0.0006456017</td><td>m  </td><td>49.2565801</td><td>-17.1638213</td></tr>\n",
       "\t<tr><td>4</td><td>-0.0006456017</td><td>ssq</td><td> 8.5062154</td><td>  1.9173885</td></tr>\n",
       "\t<tr><td>5</td><td>-0.0007292827</td><td>z1 </td><td> 0.5593825</td><td>  0.4406175</td></tr>\n",
       "\t<tr><td>5</td><td>-0.0007292827</td><td>z2 </td><td> 0.5337484</td><td>  0.4662516</td></tr>\n",
       "\t<tr><td>5</td><td>-0.0007292827</td><td>m  </td><td>49.2561408</td><td>-17.1639869</td></tr>\n",
       "\t<tr><td>5</td><td>-0.0007292827</td><td>ssq</td><td> 8.5062735</td><td>  1.9174020</td></tr>\n",
       "</tbody>\n",
       "</table>\n"
      ],
      "text/latex": [
       "A data.frame: 20 x 5\n",
       "\\begin{tabular}{lllll}\n",
       " iter & time & param & X1 & X2\\\\\n",
       " <int> & <dbl> & <chr> & <dbl> & <dbl>\\\\\n",
       "\\hline\n",
       "\t 1 & -0.0001226346 & z1  &  0.5614887 &   0.4385113\\\\\n",
       "\t 1 & -0.0001226346 & z2  &  0.5353423 &   0.4646577\\\\\n",
       "\t 1 & -0.0001226346 & m   & 49.2557913 & -17.1638733\\\\\n",
       "\t 1 & -0.0001226346 & ssq &  8.5062348 &   1.9172713\\\\\n",
       "\t 2 & -0.0002052506 & z1  &  0.5607255 &   0.4392745\\\\\n",
       "\t 2 & -0.0002052506 & z2  &  0.5347512 &   0.4652488\\\\\n",
       "\t 2 & -0.0002052506 & m   & 49.2554260 & -17.1639156\\\\\n",
       "\t 2 & -0.0002052506 & ssq &  8.5061716 &   1.9173230\\\\\n",
       "\t 3 & -0.0005715330 & z1  &  0.5608909 &   0.4391091\\\\\n",
       "\t 3 & -0.0005715330 & z2  &  0.5340628 &   0.4659372\\\\\n",
       "\t 3 & -0.0005715330 & m   & 49.2558666 & -17.1638640\\\\\n",
       "\t 3 & -0.0005715330 & ssq &  8.5061968 &   1.9173384\\\\\n",
       "\t 4 & -0.0006456017 & z1  &  0.5602008 &   0.4397992\\\\\n",
       "\t 4 & -0.0006456017 & z2  &  0.5335808 &   0.4664192\\\\\n",
       "\t 4 & -0.0006456017 & m   & 49.2565801 & -17.1638213\\\\\n",
       "\t 4 & -0.0006456017 & ssq &  8.5062154 &   1.9173885\\\\\n",
       "\t 5 & -0.0007292827 & z1  &  0.5593825 &   0.4406175\\\\\n",
       "\t 5 & -0.0007292827 & z2  &  0.5337484 &   0.4662516\\\\\n",
       "\t 5 & -0.0007292827 & m   & 49.2561408 & -17.1639869\\\\\n",
       "\t 5 & -0.0007292827 & ssq &  8.5062735 &   1.9174020\\\\\n",
       "\\end{tabular}\n"
      ],
      "text/markdown": [
       "\n",
       "A data.frame: 20 x 5\n",
       "\n",
       "| iter &lt;int&gt; | time &lt;dbl&gt; | param &lt;chr&gt; | X1 &lt;dbl&gt; | X2 &lt;dbl&gt; |\n",
       "|---|---|---|---|---|\n",
       "| 1 | -0.0001226346 | z1  |  0.5614887 |   0.4385113 |\n",
       "| 1 | -0.0001226346 | z2  |  0.5353423 |   0.4646577 |\n",
       "| 1 | -0.0001226346 | m   | 49.2557913 | -17.1638733 |\n",
       "| 1 | -0.0001226346 | ssq |  8.5062348 |   1.9172713 |\n",
       "| 2 | -0.0002052506 | z1  |  0.5607255 |   0.4392745 |\n",
       "| 2 | -0.0002052506 | z2  |  0.5347512 |   0.4652488 |\n",
       "| 2 | -0.0002052506 | m   | 49.2554260 | -17.1639156 |\n",
       "| 2 | -0.0002052506 | ssq |  8.5061716 |   1.9173230 |\n",
       "| 3 | -0.0005715330 | z1  |  0.5608909 |   0.4391091 |\n",
       "| 3 | -0.0005715330 | z2  |  0.5340628 |   0.4659372 |\n",
       "| 3 | -0.0005715330 | m   | 49.2558666 | -17.1638640 |\n",
       "| 3 | -0.0005715330 | ssq |  8.5061968 |   1.9173384 |\n",
       "| 4 | -0.0006456017 | z1  |  0.5602008 |   0.4397992 |\n",
       "| 4 | -0.0006456017 | z2  |  0.5335808 |   0.4664192 |\n",
       "| 4 | -0.0006456017 | m   | 49.2565801 | -17.1638213 |\n",
       "| 4 | -0.0006456017 | ssq |  8.5062154 |   1.9173885 |\n",
       "| 5 | -0.0007292827 | z1  |  0.5593825 |   0.4406175 |\n",
       "| 5 | -0.0007292827 | z2  |  0.5337484 |   0.4662516 |\n",
       "| 5 | -0.0007292827 | m   | 49.2561408 | -17.1639869 |\n",
       "| 5 | -0.0007292827 | ssq |  8.5062735 |   1.9174020 |\n",
       "\n"
      ],
      "text/plain": [
       "   iter time          param X1         X2         \n",
       "1  1    -0.0001226346 z1     0.5614887   0.4385113\n",
       "2  1    -0.0001226346 z2     0.5353423   0.4646577\n",
       "3  1    -0.0001226346 m     49.2557913 -17.1638733\n",
       "4  1    -0.0001226346 ssq    8.5062348   1.9172713\n",
       "5  2    -0.0002052506 z1     0.5607255   0.4392745\n",
       "6  2    -0.0002052506 z2     0.5347512   0.4652488\n",
       "7  2    -0.0002052506 m     49.2554260 -17.1639156\n",
       "8  2    -0.0002052506 ssq    8.5061716   1.9173230\n",
       "9  3    -0.0005715330 z1     0.5608909   0.4391091\n",
       "10 3    -0.0005715330 z2     0.5340628   0.4659372\n",
       "11 3    -0.0005715330 m     49.2558666 -17.1638640\n",
       "12 3    -0.0005715330 ssq    8.5061968   1.9173384\n",
       "13 4    -0.0006456017 z1     0.5602008   0.4397992\n",
       "14 4    -0.0006456017 z2     0.5335808   0.4664192\n",
       "15 4    -0.0006456017 m     49.2565801 -17.1638213\n",
       "16 4    -0.0006456017 ssq    8.5062154   1.9173885\n",
       "17 5    -0.0007292827 z1     0.5593825   0.4406175\n",
       "18 5    -0.0007292827 z2     0.5337484   0.4662516\n",
       "19 5    -0.0007292827 m     49.2561408 -17.1639869\n",
       "20 5    -0.0007292827 ssq    8.5062735   1.9174020"
      ]
     },
     "metadata": {},
     "output_type": "display_data"
    }
   ],
   "source": [
    "simplemix.bbvi(y, K = 2, maxiter = 5, mc_size = 5, method = \"RB\")"
   ]
  },
  {
   "cell_type": "code",
   "execution_count": 270,
   "metadata": {
    "vscode": {
     "languageId": "r"
    }
   },
   "outputs": [
    {
     "data": {
      "image/png": "[encoded data removed]",
      "text/plain": [
       "plot without title"
      ]
     },
     "metadata": {
      "image/png": {
       "height": 420,
       "width": 420
      }
     },
     "output_type": "display_data"
    }
   ],
   "source": [
    "prior_list = list(\n",
    "    tausq = 25,\n",
    "    sigmasq = 1\n",
    ")\n",
    "\n",
    "trial_bbvi <- simplemix.bbvi(rnorm(50, 0, 5), K = 2, priors = prior_list, maxiter = 10, method=\"JS+\")\n",
    "\n",
    "trial_bbvi %>%\n",
    "    filter(param == \"ssq\") %>%\n",
    "    ggplot(aes(x = iter, y = X1)) +\n",
    "    geom_line() +\n",
    "    labs(x = \"Iteration\", y = \"ssq1\") +\n",
    "    theme_minimal()"
   ]
  },
  {
   "cell_type": "code",
   "execution_count": 106,
   "metadata": {
    "vscode": {
     "languageId": "r"
    }
   },
   "outputs": [
    {
     "data": {
      "text/html": [
       "<style>\n",
       ".list-inline {list-style: none; margin:0; padding: 0}\n",
       ".list-inline>li {display: inline-block}\n",
       ".list-inline>li:not(:last-child)::after {content: \"\\00b7\"; padding: 0 .5ex}\n",
       "</style>\n",
       "<ol class=list-inline><li>-2.06795617095111</li><li>-1.98267314894156</li><li>0.899892379357514</li><li>0.0732074638016953</li></ol>\n"
      ],
      "text/latex": [
       "\\begin{enumerate*}\n",
       "\\item -2.06795617095111\n",
       "\\item -1.98267314894156\n",
       "\\item 0.899892379357514\n",
       "\\item 0.0732074638016953\n",
       "\\end{enumerate*}\n"
      ],
      "text/markdown": [
       "1. -2.06795617095111\n",
       "2. -1.98267314894156\n",
       "3. 0.899892379357514\n",
       "4. 0.0732074638016953\n",
       "\n",
       "\n"
      ],
      "text/plain": [
       "[1] -2.06795617 -1.98267315  0.89989238  0.07320746"
      ]
     },
     "metadata": {},
     "output_type": "display_data"
    }
   ],
   "source": [
    "source(\"bbvi_simplemix.R\")\n",
    "\n",
    "dat <- generate_samples(S = 5, y = y, phi = phi, m = m, ssq = ssq, method = \"JS+\")\n",
    "generate_bbvi(dat)"
   ]
  },
  {
   "cell_type": "code",
   "execution_count": 8,
   "metadata": {
    "vscode": {
     "languageId": "r"
    }
   },
   "outputs": [
    {
     "data": {
      "text/html": [
       "<table class=\"dataframe\">\n",
       "<caption>A matrix: 3 x 3 of type dbl</caption>\n",
       "<tbody>\n",
       "\t<tr><td>0.2500000</td><td>0.16666667</td><td>0.12500000</td></tr>\n",
       "\t<tr><td>0.1666667</td><td>0.11111111</td><td>0.08333333</td></tr>\n",
       "\t<tr><td>0.1250000</td><td>0.08333333</td><td>0.06250000</td></tr>\n",
       "</tbody>\n",
       "</table>\n"
      ],
      "text/latex": [
       "A matrix: 3 x 3 of type dbl\n",
       "\\begin{tabular}{lll}\n",
       "\t 0.2500000 & 0.16666667 & 0.12500000\\\\\n",
       "\t 0.1666667 & 0.11111111 & 0.08333333\\\\\n",
       "\t 0.1250000 & 0.08333333 & 0.06250000\\\\\n",
       "\\end{tabular}\n"
      ],
      "text/markdown": [
       "\n",
       "A matrix: 3 x 3 of type dbl\n",
       "\n",
       "| 0.2500000 | 0.16666667 | 0.12500000 |\n",
       "| 0.1666667 | 0.11111111 | 0.08333333 |\n",
       "| 0.1250000 | 0.08333333 | 0.06250000 |\n",
       "\n"
      ],
      "text/plain": [
       "     [,1]      [,2]       [,3]      \n",
       "[1,] 0.2500000 0.16666667 0.12500000\n",
       "[2,] 0.1666667 0.11111111 0.08333333\n",
       "[3,] 0.1250000 0.08333333 0.06250000"
      ]
     },
     "metadata": {},
     "output_type": "display_data"
    },
    {
     "data": {
      "text/html": [
       "<style>\n",
       ".list-inline {list-style: none; margin:0; padding: 0}\n",
       ".list-inline>li {display: inline-block}\n",
       ".list-inline>li:not(:last-child)::after {content: \"\\00b7\"; padding: 0 .5ex}\n",
       "</style>\n",
       "<ol class=list-inline><li>0.683113194020018</li><li>0.913875887189946</li><li>0.71283727715586</li></ol>\n"
      ],
      "text/latex": [
       "\\begin{enumerate*}\n",
       "\\item 0.683113194020018\n",
       "\\item 0.913875887189946\n",
       "\\item 0.71283727715586\n",
       "\\end{enumerate*}\n"
      ],
      "text/markdown": [
       "1. 0.683113194020018\n",
       "2. 0.913875887189946\n",
       "3. 0.71283727715586\n",
       "\n",
       "\n"
      ],
      "text/plain": [
       "[1] 0.6831132 0.9138759 0.7128373"
      ]
     },
     "metadata": {},
     "output_type": "display_data"
    }
   ],
   "source": [
    "source(\"bbvi_simplemix.R\")\n",
    "g <- c(1/2,1/3,1/4)\n",
    "G <- g %*% t(g)\n",
    "G\n",
    "rate_adagrad(1)(1,G)"
   ]
  }
 ],
 "metadata": {
  "kernelspec": {
   "display_name": "R",
   "language": "R",
   "name": "ir"
  },
  "language_info": {
   "codemirror_mode": "r",
   "file_extension": ".r",
   "mimetype": "text/x-r-source",
   "name": "R",
   "pygments_lexer": "r",
   "version": "4.2.3"
  }
 },
 "nbformat": 4,
 "nbformat_minor": 2
}
